{
 "cells": [
  {
   "cell_type": "markdown",
   "metadata": {},
   "source": [
    "## Imports"
   ]
  },
  {
   "cell_type": "code",
   "execution_count": 49,
   "metadata": {},
   "outputs": [],
   "source": [
    "import pandas as pd\n",
    "import tensorflow as tf\n",
    "from tensorflow import keras\n",
    "import matplotlib.pyplot as plt\n",
    "import seaborn as sns\n",
    "from sklearn.model_selection import train_test_split\n",
    "from sklearn.preprocessing import StandardScaler\n",
    "from sklearn.metrics import accuracy_score\n",
    "from sklearn.feature_selection import SelectKBest, chi2"
   ]
  },
  {
   "cell_type": "markdown",
   "metadata": {},
   "source": [
    "## Preparations"
   ]
  },
  {
   "cell_type": "code",
   "execution_count": 50,
   "metadata": {},
   "outputs": [
    {
     "data": {
      "text/html": [
       "<div>\n",
       "<style scoped>\n",
       "    .dataframe tbody tr th:only-of-type {\n",
       "        vertical-align: middle;\n",
       "    }\n",
       "\n",
       "    .dataframe tbody tr th {\n",
       "        vertical-align: top;\n",
       "    }\n",
       "\n",
       "    .dataframe thead th {\n",
       "        text-align: right;\n",
       "    }\n",
       "</style>\n",
       "<table border=\"1\" class=\"dataframe\">\n",
       "  <thead>\n",
       "    <tr style=\"text-align: right;\">\n",
       "      <th></th>\n",
       "      <th>id</th>\n",
       "      <th>diagnosis</th>\n",
       "      <th>radius_mean</th>\n",
       "      <th>texture_mean</th>\n",
       "      <th>perimeter_mean</th>\n",
       "      <th>area_mean</th>\n",
       "      <th>smoothness_mean</th>\n",
       "      <th>compactness_mean</th>\n",
       "      <th>concavity_mean</th>\n",
       "      <th>concave points_mean</th>\n",
       "      <th>...</th>\n",
       "      <th>texture_worst</th>\n",
       "      <th>perimeter_worst</th>\n",
       "      <th>area_worst</th>\n",
       "      <th>smoothness_worst</th>\n",
       "      <th>compactness_worst</th>\n",
       "      <th>concavity_worst</th>\n",
       "      <th>concave points_worst</th>\n",
       "      <th>symmetry_worst</th>\n",
       "      <th>fractal_dimension_worst</th>\n",
       "      <th>Unnamed: 32</th>\n",
       "    </tr>\n",
       "  </thead>\n",
       "  <tbody>\n",
       "    <tr>\n",
       "      <th>0</th>\n",
       "      <td>842302</td>\n",
       "      <td>M</td>\n",
       "      <td>17.99</td>\n",
       "      <td>10.38</td>\n",
       "      <td>122.80</td>\n",
       "      <td>1001.0</td>\n",
       "      <td>0.11840</td>\n",
       "      <td>0.27760</td>\n",
       "      <td>0.3001</td>\n",
       "      <td>0.14710</td>\n",
       "      <td>...</td>\n",
       "      <td>17.33</td>\n",
       "      <td>184.60</td>\n",
       "      <td>2019.0</td>\n",
       "      <td>0.1622</td>\n",
       "      <td>0.6656</td>\n",
       "      <td>0.7119</td>\n",
       "      <td>0.2654</td>\n",
       "      <td>0.4601</td>\n",
       "      <td>0.11890</td>\n",
       "      <td>NaN</td>\n",
       "    </tr>\n",
       "    <tr>\n",
       "      <th>1</th>\n",
       "      <td>842517</td>\n",
       "      <td>M</td>\n",
       "      <td>20.57</td>\n",
       "      <td>17.77</td>\n",
       "      <td>132.90</td>\n",
       "      <td>1326.0</td>\n",
       "      <td>0.08474</td>\n",
       "      <td>0.07864</td>\n",
       "      <td>0.0869</td>\n",
       "      <td>0.07017</td>\n",
       "      <td>...</td>\n",
       "      <td>23.41</td>\n",
       "      <td>158.80</td>\n",
       "      <td>1956.0</td>\n",
       "      <td>0.1238</td>\n",
       "      <td>0.1866</td>\n",
       "      <td>0.2416</td>\n",
       "      <td>0.1860</td>\n",
       "      <td>0.2750</td>\n",
       "      <td>0.08902</td>\n",
       "      <td>NaN</td>\n",
       "    </tr>\n",
       "    <tr>\n",
       "      <th>2</th>\n",
       "      <td>84300903</td>\n",
       "      <td>M</td>\n",
       "      <td>19.69</td>\n",
       "      <td>21.25</td>\n",
       "      <td>130.00</td>\n",
       "      <td>1203.0</td>\n",
       "      <td>0.10960</td>\n",
       "      <td>0.15990</td>\n",
       "      <td>0.1974</td>\n",
       "      <td>0.12790</td>\n",
       "      <td>...</td>\n",
       "      <td>25.53</td>\n",
       "      <td>152.50</td>\n",
       "      <td>1709.0</td>\n",
       "      <td>0.1444</td>\n",
       "      <td>0.4245</td>\n",
       "      <td>0.4504</td>\n",
       "      <td>0.2430</td>\n",
       "      <td>0.3613</td>\n",
       "      <td>0.08758</td>\n",
       "      <td>NaN</td>\n",
       "    </tr>\n",
       "    <tr>\n",
       "      <th>3</th>\n",
       "      <td>84348301</td>\n",
       "      <td>M</td>\n",
       "      <td>11.42</td>\n",
       "      <td>20.38</td>\n",
       "      <td>77.58</td>\n",
       "      <td>386.1</td>\n",
       "      <td>0.14250</td>\n",
       "      <td>0.28390</td>\n",
       "      <td>0.2414</td>\n",
       "      <td>0.10520</td>\n",
       "      <td>...</td>\n",
       "      <td>26.50</td>\n",
       "      <td>98.87</td>\n",
       "      <td>567.7</td>\n",
       "      <td>0.2098</td>\n",
       "      <td>0.8663</td>\n",
       "      <td>0.6869</td>\n",
       "      <td>0.2575</td>\n",
       "      <td>0.6638</td>\n",
       "      <td>0.17300</td>\n",
       "      <td>NaN</td>\n",
       "    </tr>\n",
       "    <tr>\n",
       "      <th>4</th>\n",
       "      <td>84358402</td>\n",
       "      <td>M</td>\n",
       "      <td>20.29</td>\n",
       "      <td>14.34</td>\n",
       "      <td>135.10</td>\n",
       "      <td>1297.0</td>\n",
       "      <td>0.10030</td>\n",
       "      <td>0.13280</td>\n",
       "      <td>0.1980</td>\n",
       "      <td>0.10430</td>\n",
       "      <td>...</td>\n",
       "      <td>16.67</td>\n",
       "      <td>152.20</td>\n",
       "      <td>1575.0</td>\n",
       "      <td>0.1374</td>\n",
       "      <td>0.2050</td>\n",
       "      <td>0.4000</td>\n",
       "      <td>0.1625</td>\n",
       "      <td>0.2364</td>\n",
       "      <td>0.07678</td>\n",
       "      <td>NaN</td>\n",
       "    </tr>\n",
       "  </tbody>\n",
       "</table>\n",
       "<p>5 rows × 33 columns</p>\n",
       "</div>"
      ],
      "text/plain": [
       "         id diagnosis  radius_mean  texture_mean  perimeter_mean  area_mean  \\\n",
       "0    842302         M        17.99         10.38          122.80     1001.0   \n",
       "1    842517         M        20.57         17.77          132.90     1326.0   \n",
       "2  84300903         M        19.69         21.25          130.00     1203.0   \n",
       "3  84348301         M        11.42         20.38           77.58      386.1   \n",
       "4  84358402         M        20.29         14.34          135.10     1297.0   \n",
       "\n",
       "   smoothness_mean  compactness_mean  concavity_mean  concave points_mean  \\\n",
       "0          0.11840           0.27760          0.3001              0.14710   \n",
       "1          0.08474           0.07864          0.0869              0.07017   \n",
       "2          0.10960           0.15990          0.1974              0.12790   \n",
       "3          0.14250           0.28390          0.2414              0.10520   \n",
       "4          0.10030           0.13280          0.1980              0.10430   \n",
       "\n",
       "   ...  texture_worst  perimeter_worst  area_worst  smoothness_worst  \\\n",
       "0  ...          17.33           184.60      2019.0            0.1622   \n",
       "1  ...          23.41           158.80      1956.0            0.1238   \n",
       "2  ...          25.53           152.50      1709.0            0.1444   \n",
       "3  ...          26.50            98.87       567.7            0.2098   \n",
       "4  ...          16.67           152.20      1575.0            0.1374   \n",
       "\n",
       "   compactness_worst  concavity_worst  concave points_worst  symmetry_worst  \\\n",
       "0             0.6656           0.7119                0.2654          0.4601   \n",
       "1             0.1866           0.2416                0.1860          0.2750   \n",
       "2             0.4245           0.4504                0.2430          0.3613   \n",
       "3             0.8663           0.6869                0.2575          0.6638   \n",
       "4             0.2050           0.4000                0.1625          0.2364   \n",
       "\n",
       "   fractal_dimension_worst  Unnamed: 32  \n",
       "0                  0.11890          NaN  \n",
       "1                  0.08902          NaN  \n",
       "2                  0.08758          NaN  \n",
       "3                  0.17300          NaN  \n",
       "4                  0.07678          NaN  \n",
       "\n",
       "[5 rows x 33 columns]"
      ]
     },
     "execution_count": 50,
     "metadata": {},
     "output_type": "execute_result"
    }
   ],
   "source": [
    "_df = pd.read_csv(\"./datasets/breast-cancer-wisconsin.csv\")\n",
    "_df.head()"
   ]
  },
  {
   "cell_type": "code",
   "execution_count": 51,
   "metadata": {},
   "outputs": [
    {
     "data": {
      "text/plain": [
       "(   radius_mean  texture_mean  perimeter_mean  area_mean  smoothness_mean  \\\n",
       " 0        17.99         10.38          122.80     1001.0          0.11840   \n",
       " 1        20.57         17.77          132.90     1326.0          0.08474   \n",
       " 2        19.69         21.25          130.00     1203.0          0.10960   \n",
       " 3        11.42         20.38           77.58      386.1          0.14250   \n",
       " 4        20.29         14.34          135.10     1297.0          0.10030   \n",
       " \n",
       "    compactness_mean  concavity_mean  concave points_mean  symmetry_mean  \\\n",
       " 0           0.27760          0.3001              0.14710         0.2419   \n",
       " 1           0.07864          0.0869              0.07017         0.1812   \n",
       " 2           0.15990          0.1974              0.12790         0.2069   \n",
       " 3           0.28390          0.2414              0.10520         0.2597   \n",
       " 4           0.13280          0.1980              0.10430         0.1809   \n",
       " \n",
       "    fractal_dimension_mean  ...  radius_worst  texture_worst  perimeter_worst  \\\n",
       " 0                 0.07871  ...         25.38          17.33           184.60   \n",
       " 1                 0.05667  ...         24.99          23.41           158.80   \n",
       " 2                 0.05999  ...         23.57          25.53           152.50   \n",
       " 3                 0.09744  ...         14.91          26.50            98.87   \n",
       " 4                 0.05883  ...         22.54          16.67           152.20   \n",
       " \n",
       "    area_worst  smoothness_worst  compactness_worst  concavity_worst  \\\n",
       " 0      2019.0            0.1622             0.6656           0.7119   \n",
       " 1      1956.0            0.1238             0.1866           0.2416   \n",
       " 2      1709.0            0.1444             0.4245           0.4504   \n",
       " 3       567.7            0.2098             0.8663           0.6869   \n",
       " 4      1575.0            0.1374             0.2050           0.4000   \n",
       " \n",
       "    concave points_worst  symmetry_worst  fractal_dimension_worst  \n",
       " 0                0.2654          0.4601                  0.11890  \n",
       " 1                0.1860          0.2750                  0.08902  \n",
       " 2                0.2430          0.3613                  0.08758  \n",
       " 3                0.2575          0.6638                  0.17300  \n",
       " 4                0.1625          0.2364                  0.07678  \n",
       " \n",
       " [5 rows x 30 columns],\n",
       " 0      0\n",
       " 1      0\n",
       " 2      0\n",
       " 3      0\n",
       " 4      0\n",
       "       ..\n",
       " 564    0\n",
       " 565    0\n",
       " 566    0\n",
       " 567    0\n",
       " 568    1\n",
       " Length: 569, dtype: int64)"
      ]
     },
     "execution_count": 51,
     "metadata": {},
     "output_type": "execute_result"
    }
   ],
   "source": [
    "y = _df.diagnosis\n",
    "y = pd.Series([int(x == \"B\") for x in y])\n",
    "x = _df.drop([\"Unnamed: 32\", \"id\", \"diagnosis\"], axis=1)\n",
    "x.head(), y"
   ]
  },
  {
   "cell_type": "code",
   "execution_count": 52,
   "metadata": {},
   "outputs": [],
   "source": [
    "def plot_history_performance(history):\n",
    "    plt.figure(figsize=(8,6))\n",
    "    plt.plot(history.history['accuracy'], color='#FFCC00', animated=True, label=\"Training Acc\")\n",
    "    plt.plot(history.history['val_accuracy'], color='green', animated=True, label=\"Validation Acc\")\n",
    "    plt.title(\"Model Accuracy\")\n",
    "    plt.ylabel(\"Accuracy\")\n",
    "    plt.xlabel(\"Epoch\")\n",
    "    plt.legend()\n",
    "    plt.show()"
   ]
  },
  {
   "cell_type": "markdown",
   "metadata": {},
   "source": [
    "## Rough ANN"
   ]
  },
  {
   "cell_type": "code",
   "execution_count": 53,
   "metadata": {},
   "outputs": [
    {
     "data": {
      "text/plain": [
       "((569, 30), (284, 30), (213, 30), (72, 30))"
      ]
     },
     "execution_count": 53,
     "metadata": {},
     "output_type": "execute_result"
    }
   ],
   "source": [
    "X_train, X_temp, y_train, y_temp = train_test_split(x, y, test_size=.5, random_state=36)\n",
    "X_valid, X_test, y_valid, y_test = train_test_split(X_temp, y_temp, test_size=.25, random_state=43)\n",
    "x.shape, X_train.shape, X_valid.shape, X_test.shape"
   ]
  },
  {
   "cell_type": "code",
   "execution_count": 54,
   "metadata": {},
   "outputs": [],
   "source": [
    "scaler = StandardScaler()\n",
    "X_norm_train, X_norm_val, X_norm_test = scaler.fit_transform(X_train), scaler.transform(X_valid), scaler.transform(X_test)"
   ]
  },
  {
   "cell_type": "code",
   "execution_count": 55,
   "metadata": {},
   "outputs": [],
   "source": [
    "# HYPER-PARAMS\n",
    "EPOCH_LENGTH=10\n",
    "BATCH_SIZE=14\n",
    "\n",
    "LEARN_RATE=.001\n",
    "\n",
    "DROPOUT_RATE=.2"
   ]
  },
  {
   "cell_type": "code",
   "execution_count": 56,
   "metadata": {},
   "outputs": [],
   "source": [
    "model = keras.Sequential([\n",
    "    keras.Input(shape=(30,)),\n",
    "    keras.layers.Dense(20, activation=\"relu\"),\n",
    "    keras.layers.Dropout(DROPOUT_RATE),\n",
    "    keras.layers.Dense(2, activation=\"sigmoid\")\n",
    "])\n",
    "model.compile(\n",
    "    optimizer=keras.optimizers.Adam(learning_rate=LEARN_RATE),\n",
    "    loss=keras.losses.SparseCategoricalCrossentropy(),\n",
    "    metrics=['accuracy']\n",
    ")"
   ]
  },
  {
   "cell_type": "code",
   "execution_count": 57,
   "metadata": {},
   "outputs": [
    {
     "name": "stdout",
     "output_type": "stream",
     "text": [
      "Epoch 1/10\n",
      "21/21 [==============================] - 1s 15ms/step - loss: 0.8225 - accuracy: 0.5845 - val_loss: 0.5555 - val_accuracy: 0.7653\n",
      "Epoch 2/10\n",
      "21/21 [==============================] - 0s 5ms/step - loss: 0.5087 - accuracy: 0.7711 - val_loss: 0.4029 - val_accuracy: 0.8592\n",
      "Epoch 3/10\n",
      "21/21 [==============================] - 0s 6ms/step - loss: 0.3639 - accuracy: 0.8768 - val_loss: 0.3235 - val_accuracy: 0.8873\n",
      "Epoch 4/10\n",
      "21/21 [==============================] - 0s 8ms/step - loss: 0.2945 - accuracy: 0.8873 - val_loss: 0.2717 - val_accuracy: 0.8967\n",
      "Epoch 5/10\n",
      "21/21 [==============================] - 0s 6ms/step - loss: 0.2480 - accuracy: 0.9085 - val_loss: 0.2363 - val_accuracy: 0.8967\n",
      "Epoch 6/10\n",
      "21/21 [==============================] - 0s 5ms/step - loss: 0.2093 - accuracy: 0.9155 - val_loss: 0.2070 - val_accuracy: 0.9202\n",
      "Epoch 7/10\n",
      "21/21 [==============================] - 0s 6ms/step - loss: 0.1882 - accuracy: 0.9401 - val_loss: 0.1844 - val_accuracy: 0.9249\n",
      "Epoch 8/10\n",
      "21/21 [==============================] - 0s 6ms/step - loss: 0.1711 - accuracy: 0.9507 - val_loss: 0.1708 - val_accuracy: 0.9296\n",
      "Epoch 9/10\n",
      "21/21 [==============================] - 0s 5ms/step - loss: 0.1512 - accuracy: 0.9507 - val_loss: 0.1666 - val_accuracy: 0.9296\n",
      "Epoch 10/10\n",
      "21/21 [==============================] - 0s 5ms/step - loss: 0.1469 - accuracy: 0.9507 - val_loss: 0.1559 - val_accuracy: 0.9296\n"
     ]
    },
    {
     "data": {
      "image/png": "[encoded data removed]",
      "text/plain": [
       "<Figure size 576x432 with 1 Axes>"
      ]
     },
     "metadata": {
      "needs_background": "light"
     },
     "output_type": "display_data"
    },
    {
     "name": "stdout",
     "output_type": "stream",
     "text": [
      "3/3 [==============================] - 0s 4ms/step - loss: 0.1781 - accuracy: 0.9167\n"
     ]
    },
    {
     "data": {
      "text/plain": [
       "[0.17811420559883118, 0.9166666865348816]"
      ]
     },
     "execution_count": 57,
     "metadata": {},
     "output_type": "execute_result"
    }
   ],
   "source": [
    "history = None\n",
    "history = model.fit(\n",
    "    X_norm_train, y_train,\n",
    "    epochs=EPOCH_LENGTH,\n",
    "    batch_size=BATCH_SIZE,\n",
    "    validation_data=(X_norm_val, y_valid)\n",
    ")\n",
    "\n",
    "plot_history_performance(history=history)\n",
    "\n",
    "model.evaluate(X_norm_test, y_test)"
   ]
  },
  {
   "cell_type": "markdown",
   "metadata": {},
   "source": [
    "## Correlated Features Dropped"
   ]
  },
  {
   "cell_type": "code",
   "execution_count": 58,
   "metadata": {},
   "outputs": [
    {
     "data": {
      "text/plain": [
       "((569, 16), (284, 16), (213, 16), (72, 16))"
      ]
     },
     "execution_count": 58,
     "metadata": {},
     "output_type": "execute_result"
    }
   ],
   "source": [
    "cols_to_drop=['perimeter_mean','radius_mean','compactness_mean','concave points_mean','radius_se','perimeter_se','radius_worst','perimeter_worst','compactness_worst','concave points_worst','compactness_se','concave points_se','texture_worst','area_worst']\n",
    "x_2 = x.drop(cols_to_drop, axis=1)\n",
    "\n",
    "X_train_2, X_temp_2, y_train_2, y_temp_2 = train_test_split(x_2, y, test_size=.5, random_state=36)\n",
    "X_valid_2, X_test_2, y_valid_2, y_test_2 = train_test_split(X_temp_2, y_temp_2, test_size=.25, random_state=43)\n",
    "x_2.shape, X_train_2.shape, X_valid_2.shape, X_test_2.shape"
   ]
  },
  {
   "cell_type": "code",
   "execution_count": 59,
   "metadata": {},
   "outputs": [],
   "source": [
    "scaler = StandardScaler()\n",
    "X_norm_train_2, X_norm_val_2, X_norm_test_2 = scaler.fit_transform(X_train_2), scaler.transform(X_valid_2), scaler.transform(X_test_2)"
   ]
  },
  {
   "cell_type": "code",
   "execution_count": 60,
   "metadata": {},
   "outputs": [],
   "source": [
    "model_2 = keras.Sequential([\n",
    "    keras.Input(shape=(16,)),\n",
    "    keras.layers.Dense(20, activation=\"relu\"),\n",
    "    keras.layers.Dropout(DROPOUT_RATE**2),\n",
    "    keras.layers.Dense(2, activation=\"sigmoid\")\n",
    "])\n",
    "model_2.compile(\n",
    "    optimizer=keras.optimizers.Adam(learning_rate=LEARN_RATE),\n",
    "    loss=keras.losses.SparseCategoricalCrossentropy(),\n",
    "    metrics=['accuracy']\n",
    ")"
   ]
  },
  {
   "cell_type": "code",
   "execution_count": 61,
   "metadata": {},
   "outputs": [
    {
     "name": "stdout",
     "output_type": "stream",
     "text": [
      "Epoch 1/20\n",
      "21/21 [==============================] - 1s 18ms/step - loss: 1.0913 - accuracy: 0.3556 - val_loss: 0.8395 - val_accuracy: 0.4225\n",
      "Epoch 2/20\n",
      "21/21 [==============================] - 0s 7ms/step - loss: 0.8271 - accuracy: 0.5070 - val_loss: 0.6214 - val_accuracy: 0.6432\n",
      "Epoch 3/20\n",
      "21/21 [==============================] - 0s 6ms/step - loss: 0.6229 - accuracy: 0.6831 - val_loss: 0.4936 - val_accuracy: 0.8263\n",
      "Epoch 4/20\n",
      "21/21 [==============================] - 0s 5ms/step - loss: 0.5211 - accuracy: 0.7993 - val_loss: 0.4141 - val_accuracy: 0.8779\n",
      "Epoch 5/20\n",
      "21/21 [==============================] - 0s 5ms/step - loss: 0.4173 - accuracy: 0.8486 - val_loss: 0.3579 - val_accuracy: 0.9061\n",
      "Epoch 6/20\n",
      "21/21 [==============================] - 0s 5ms/step - loss: 0.3652 - accuracy: 0.8627 - val_loss: 0.3160 - val_accuracy: 0.9061\n",
      "Epoch 7/20\n",
      "21/21 [==============================] - 0s 5ms/step - loss: 0.3297 - accuracy: 0.9014 - val_loss: 0.2835 - val_accuracy: 0.9202\n",
      "Epoch 8/20\n",
      "21/21 [==============================] - 0s 5ms/step - loss: 0.2848 - accuracy: 0.9085 - val_loss: 0.2590 - val_accuracy: 0.9296\n",
      "Epoch 9/20\n",
      "21/21 [==============================] - 0s 5ms/step - loss: 0.2505 - accuracy: 0.9296 - val_loss: 0.2381 - val_accuracy: 0.9296\n",
      "Epoch 10/20\n",
      "21/21 [==============================] - 0s 5ms/step - loss: 0.2374 - accuracy: 0.9401 - val_loss: 0.2205 - val_accuracy: 0.9343\n",
      "Epoch 11/20\n",
      "21/21 [==============================] - 0s 5ms/step - loss: 0.2016 - accuracy: 0.9577 - val_loss: 0.2071 - val_accuracy: 0.9343\n",
      "Epoch 12/20\n",
      "21/21 [==============================] - 0s 5ms/step - loss: 0.1900 - accuracy: 0.9507 - val_loss: 0.1941 - val_accuracy: 0.9343\n",
      "Epoch 13/20\n",
      "21/21 [==============================] - 0s 5ms/step - loss: 0.1702 - accuracy: 0.9542 - val_loss: 0.1838 - val_accuracy: 0.9343\n",
      "Epoch 14/20\n",
      "21/21 [==============================] - 0s 5ms/step - loss: 0.1627 - accuracy: 0.9613 - val_loss: 0.1747 - val_accuracy: 0.9343\n",
      "Epoch 15/20\n",
      "21/21 [==============================] - 0s 5ms/step - loss: 0.1482 - accuracy: 0.9613 - val_loss: 0.1660 - val_accuracy: 0.9343\n",
      "Epoch 16/20\n",
      "21/21 [==============================] - 0s 5ms/step - loss: 0.1458 - accuracy: 0.9577 - val_loss: 0.1568 - val_accuracy: 0.9390\n",
      "Epoch 17/20\n",
      "21/21 [==============================] - 0s 5ms/step - loss: 0.1328 - accuracy: 0.9718 - val_loss: 0.1498 - val_accuracy: 0.9531\n",
      "Epoch 18/20\n",
      "21/21 [==============================] - 0s 5ms/step - loss: 0.1213 - accuracy: 0.9648 - val_loss: 0.1440 - val_accuracy: 0.9531\n",
      "Epoch 19/20\n",
      "21/21 [==============================] - 0s 5ms/step - loss: 0.1178 - accuracy: 0.9683 - val_loss: 0.1397 - val_accuracy: 0.9577\n",
      "Epoch 20/20\n",
      "21/21 [==============================] - 0s 5ms/step - loss: 0.1069 - accuracy: 0.9718 - val_loss: 0.1361 - val_accuracy: 0.9577\n"
     ]
    },
    {
     "data": {
      "image/png": "[encoded data removed]",
      "text/plain": [
       "<Figure size 576x432 with 1 Axes>"
      ]
     },
     "metadata": {
      "needs_background": "light"
     },
     "output_type": "display_data"
    },
    {
     "name": "stdout",
     "output_type": "stream",
     "text": [
      "3/3 [==============================] - 0s 4ms/step - loss: 0.1577 - accuracy: 0.9444\n"
     ]
    },
    {
     "data": {
      "text/plain": [
       "[0.1576877385377884, 0.9444444179534912]"
      ]
     },
     "execution_count": 61,
     "metadata": {},
     "output_type": "execute_result"
    }
   ],
   "source": [
    "history_2 = None\n",
    "history_2 = model_2.fit(\n",
    "    X_norm_train_2, y_train_2,\n",
    "    epochs=EPOCH_LENGTH*2,\n",
    "    batch_size=BATCH_SIZE,\n",
    "    validation_data=(X_norm_val_2, y_valid_2)\n",
    ")\n",
    "\n",
    "plot_history_performance(history=history_2)\n",
    "\n",
    "model_2.evaluate(X_norm_test_2, y_test_2)"
   ]
  },
  {
   "cell_type": "markdown",
   "metadata": {},
   "source": [
    "## Feature Ranking and Selection"
   ]
  },
  {
   "cell_type": "code",
   "execution_count": 83,
   "metadata": {},
   "outputs": [
    {
     "data": {
      "text/html": [
       "<div>\n",
       "<style scoped>\n",
       "    .dataframe tbody tr th:only-of-type {\n",
       "        vertical-align: middle;\n",
       "    }\n",
       "\n",
       "    .dataframe tbody tr th {\n",
       "        vertical-align: top;\n",
       "    }\n",
       "\n",
       "    .dataframe thead th {\n",
       "        text-align: right;\n",
       "    }\n",
       "</style>\n",
       "<table border=\"1\" class=\"dataframe\">\n",
       "  <thead>\n",
       "    <tr style=\"text-align: right;\">\n",
       "      <th></th>\n",
       "      <th>feature</th>\n",
       "      <th>score</th>\n",
       "    </tr>\n",
       "  </thead>\n",
       "  <tbody>\n",
       "    <tr>\n",
       "      <th>0</th>\n",
       "      <td>area_mean</td>\n",
       "      <td>53991.655924</td>\n",
       "    </tr>\n",
       "    <tr>\n",
       "      <th>1</th>\n",
       "      <td>area_se</td>\n",
       "      <td>8758.504705</td>\n",
       "    </tr>\n",
       "    <tr>\n",
       "      <th>2</th>\n",
       "      <td>texture_mean</td>\n",
       "      <td>93.897508</td>\n",
       "    </tr>\n",
       "    <tr>\n",
       "      <th>3</th>\n",
       "      <td>concavity_worst</td>\n",
       "      <td>39.516915</td>\n",
       "    </tr>\n",
       "    <tr>\n",
       "      <th>4</th>\n",
       "      <td>concavity_mean</td>\n",
       "      <td>19.712354</td>\n",
       "    </tr>\n",
       "    <tr>\n",
       "      <th>5</th>\n",
       "      <td>symmetry_worst</td>\n",
       "      <td>1.298861</td>\n",
       "    </tr>\n",
       "    <tr>\n",
       "      <th>6</th>\n",
       "      <td>concavity_se</td>\n",
       "      <td>1.044718</td>\n",
       "    </tr>\n",
       "    <tr>\n",
       "      <th>7</th>\n",
       "      <td>smoothness_worst</td>\n",
       "      <td>0.397366</td>\n",
       "    </tr>\n",
       "    <tr>\n",
       "      <th>8</th>\n",
       "      <td>symmetry_mean</td>\n",
       "      <td>0.257380</td>\n",
       "    </tr>\n",
       "    <tr>\n",
       "      <th>9</th>\n",
       "      <td>fractal_dimension_worst</td>\n",
       "      <td>0.231522</td>\n",
       "    </tr>\n",
       "    <tr>\n",
       "      <th>10</th>\n",
       "      <td>smoothness_mean</td>\n",
       "      <td>0.149899</td>\n",
       "    </tr>\n",
       "    <tr>\n",
       "      <th>11</th>\n",
       "      <td>texture_se</td>\n",
       "      <td>0.009794</td>\n",
       "    </tr>\n",
       "    <tr>\n",
       "      <th>12</th>\n",
       "      <td>fractal_dimension_se</td>\n",
       "      <td>0.006371</td>\n",
       "    </tr>\n",
       "    <tr>\n",
       "      <th>13</th>\n",
       "      <td>smoothness_se</td>\n",
       "      <td>0.003266</td>\n",
       "    </tr>\n",
       "    <tr>\n",
       "      <th>14</th>\n",
       "      <td>symmetry_se</td>\n",
       "      <td>0.000080</td>\n",
       "    </tr>\n",
       "    <tr>\n",
       "      <th>15</th>\n",
       "      <td>fractal_dimension_mean</td>\n",
       "      <td>0.000074</td>\n",
       "    </tr>\n",
       "  </tbody>\n",
       "</table>\n",
       "</div>"
      ],
      "text/plain": [
       "                    feature         score\n",
       "0                 area_mean  53991.655924\n",
       "1                   area_se   8758.504705\n",
       "2              texture_mean     93.897508\n",
       "3           concavity_worst     39.516915\n",
       "4            concavity_mean     19.712354\n",
       "5            symmetry_worst      1.298861\n",
       "6              concavity_se      1.044718\n",
       "7          smoothness_worst      0.397366\n",
       "8             symmetry_mean      0.257380\n",
       "9   fractal_dimension_worst      0.231522\n",
       "10          smoothness_mean      0.149899\n",
       "11               texture_se      0.009794\n",
       "12     fractal_dimension_se      0.006371\n",
       "13            smoothness_se      0.003266\n",
       "14              symmetry_se      0.000080\n",
       "15   fractal_dimension_mean      0.000074"
      ]
     },
     "execution_count": 83,
     "metadata": {},
     "output_type": "execute_result"
    }
   ],
   "source": [
    "select_feature = SelectKBest(chi2, k=5).fit(x_2, y)\n",
    "\n",
    "__df = pd.DataFrame(dict(feature=x_2.columns, score=select_feature.scores_), index=None).sort_values(by=\"score\", ascending=False, kind=\"stable\", ignore_index=True)\n",
    "__df"
   ]
  },
  {
   "cell_type": "code",
   "execution_count": 63,
   "metadata": {},
   "outputs": [],
   "source": [
    "X_train_3 = select_feature.transform(X_train_2)\n",
    "X_valid_3 = select_feature.transform(X_valid_2)\n",
    "X_test_3 = select_feature.transform(X_test_2)"
   ]
  },
  {
   "cell_type": "code",
   "execution_count": 64,
   "metadata": {},
   "outputs": [],
   "source": [
    "scaler = StandardScaler()\n",
    "X_norm_train_3, X_norm_val_3, X_norm_test_3 = scaler.fit_transform(X_train_3), scaler.transform(X_valid_3), scaler.transform(X_test_3)"
   ]
  },
  {
   "cell_type": "code",
   "execution_count": 65,
   "metadata": {},
   "outputs": [],
   "source": [
    "model_3 = keras.Sequential([\n",
    "    keras.Input(shape=(5,)),\n",
    "    keras.layers.Dense(12, activation=\"relu\"),\n",
    "    keras.layers.Dropout(DROPOUT_RATE**2),\n",
    "    keras.layers.Dense(6, activation=\"relu\"),\n",
    "    keras.layers.Dense(4, activation=\"sigmoid\"),\n",
    "    keras.layers.Dense(2, activation=\"sigmoid\")\n",
    "])\n",
    "model_3.compile(\n",
    "    optimizer=keras.optimizers.Adam(learning_rate=LEARN_RATE),\n",
    "    loss=keras.losses.SparseCategoricalCrossentropy(),\n",
    "    metrics=['accuracy']\n",
    ")"
   ]
  },
  {
   "cell_type": "code",
   "execution_count": 69,
   "metadata": {},
   "outputs": [
    {
     "name": "stdout",
     "output_type": "stream",
     "text": [
      "Epoch 1/20\n",
      "21/21 [==============================] - 2s 22ms/step - loss: 0.8063 - accuracy: 0.3662 - val_loss: 0.7856 - val_accuracy: 0.3333\n",
      "Epoch 2/20\n",
      "21/21 [==============================] - 0s 8ms/step - loss: 0.7571 - accuracy: 0.3627 - val_loss: 0.7342 - val_accuracy: 0.3333\n",
      "Epoch 3/20\n",
      "21/21 [==============================] - 0s 8ms/step - loss: 0.7134 - accuracy: 0.4155 - val_loss: 0.6898 - val_accuracy: 0.4742\n",
      "Epoch 4/20\n",
      "21/21 [==============================] - 0s 8ms/step - loss: 0.6689 - accuracy: 0.5563 - val_loss: 0.6476 - val_accuracy: 0.7371\n",
      "Epoch 5/20\n",
      "21/21 [==============================] - 0s 8ms/step - loss: 0.6287 - accuracy: 0.7394 - val_loss: 0.6083 - val_accuracy: 0.8498\n",
      "Epoch 6/20\n",
      "21/21 [==============================] - 0s 9ms/step - loss: 0.5940 - accuracy: 0.8521 - val_loss: 0.5724 - val_accuracy: 0.8920\n",
      "Epoch 7/20\n",
      "21/21 [==============================] - 0s 10ms/step - loss: 0.5625 - accuracy: 0.8979 - val_loss: 0.5405 - val_accuracy: 0.9202\n",
      "Epoch 8/20\n",
      "21/21 [==============================] - 0s 9ms/step - loss: 0.5302 - accuracy: 0.9261 - val_loss: 0.5091 - val_accuracy: 0.9202\n",
      "Epoch 9/20\n",
      "21/21 [==============================] - 0s 8ms/step - loss: 0.4973 - accuracy: 0.9366 - val_loss: 0.4793 - val_accuracy: 0.9155\n",
      "Epoch 10/20\n",
      "21/21 [==============================] - 0s 8ms/step - loss: 0.4662 - accuracy: 0.9225 - val_loss: 0.4493 - val_accuracy: 0.9202\n",
      "Epoch 11/20\n",
      "21/21 [==============================] - 0s 8ms/step - loss: 0.4383 - accuracy: 0.9261 - val_loss: 0.4211 - val_accuracy: 0.9155\n",
      "Epoch 12/20\n",
      "21/21 [==============================] - 0s 8ms/step - loss: 0.4088 - accuracy: 0.9296 - val_loss: 0.3945 - val_accuracy: 0.9202\n",
      "Epoch 13/20\n",
      "21/21 [==============================] - 0s 9ms/step - loss: 0.3816 - accuracy: 0.9401 - val_loss: 0.3698 - val_accuracy: 0.9249\n",
      "Epoch 14/20\n",
      "21/21 [==============================] - 0s 10ms/step - loss: 0.3555 - accuracy: 0.9331 - val_loss: 0.3473 - val_accuracy: 0.9296\n",
      "Epoch 15/20\n",
      "21/21 [==============================] - 0s 8ms/step - loss: 0.3338 - accuracy: 0.9401 - val_loss: 0.3271 - val_accuracy: 0.9296\n",
      "Epoch 16/20\n",
      "21/21 [==============================] - 0s 7ms/step - loss: 0.3120 - accuracy: 0.9472 - val_loss: 0.3099 - val_accuracy: 0.9296\n",
      "Epoch 17/20\n",
      "21/21 [==============================] - 0s 7ms/step - loss: 0.2928 - accuracy: 0.9437 - val_loss: 0.2947 - val_accuracy: 0.9296\n",
      "Epoch 18/20\n",
      "21/21 [==============================] - 0s 7ms/step - loss: 0.2823 - accuracy: 0.9437 - val_loss: 0.2823 - val_accuracy: 0.9343\n",
      "Epoch 19/20\n",
      "21/21 [==============================] - 0s 7ms/step - loss: 0.2685 - accuracy: 0.9437 - val_loss: 0.2711 - val_accuracy: 0.9296\n",
      "Epoch 20/20\n",
      "21/21 [==============================] - 0s 7ms/step - loss: 0.2612 - accuracy: 0.9437 - val_loss: 0.2612 - val_accuracy: 0.9296\n"
     ]
    },
    {
     "data": {
      "image/png": "[encoded data removed]",
      "text/plain": [
       "<Figure size 576x432 with 1 Axes>"
      ]
     },
     "metadata": {
      "needs_background": "light"
     },
     "output_type": "display_data"
    },
    {
     "name": "stdout",
     "output_type": "stream",
     "text": [
      "3/3 [==============================] - 0s 4ms/step - loss: 0.2669 - accuracy: 0.9306\n",
      "Epoch 1/20\n",
      "11/11 [==============================] - 1s 69ms/step - loss: 0.6817 - accuracy: 0.6092 - val_loss: 0.6409 - val_accuracy: 0.6432\n",
      "Epoch 2/20\n",
      "11/11 [==============================] - 0s 21ms/step - loss: 0.6613 - accuracy: 0.6092 - val_loss: 0.6245 - val_accuracy: 0.6432\n",
      "Epoch 3/20\n",
      "11/11 [==============================] - 0s 19ms/step - loss: 0.6455 - accuracy: 0.6092 - val_loss: 0.6084 - val_accuracy: 0.6432\n",
      "Epoch 4/20\n",
      "11/11 [==============================] - 0s 15ms/step - loss: 0.6283 - accuracy: 0.6092 - val_loss: 0.5911 - val_accuracy: 0.6385\n",
      "Epoch 5/20\n",
      "11/11 [==============================] - 0s 11ms/step - loss: 0.6051 - accuracy: 0.6092 - val_loss: 0.5742 - val_accuracy: 0.6385\n",
      "Epoch 6/20\n",
      "11/11 [==============================] - 0s 12ms/step - loss: 0.5877 - accuracy: 0.6162 - val_loss: 0.5565 - val_accuracy: 0.6385\n",
      "Epoch 7/20\n",
      "11/11 [==============================] - 0s 15ms/step - loss: 0.5681 - accuracy: 0.6197 - val_loss: 0.5378 - val_accuracy: 0.6667\n",
      "Epoch 8/20\n",
      "11/11 [==============================] - 0s 15ms/step - loss: 0.5476 - accuracy: 0.6585 - val_loss: 0.5191 - val_accuracy: 0.7136\n",
      "Epoch 9/20\n",
      "11/11 [==============================] - 0s 20ms/step - loss: 0.5277 - accuracy: 0.7113 - val_loss: 0.4993 - val_accuracy: 0.7887\n",
      "Epoch 10/20\n",
      "11/11 [==============================] - 0s 14ms/step - loss: 0.5042 - accuracy: 0.7500 - val_loss: 0.4793 - val_accuracy: 0.8498\n",
      "Epoch 11/20\n",
      "11/11 [==============================] - 0s 16ms/step - loss: 0.4836 - accuracy: 0.8099 - val_loss: 0.4598 - val_accuracy: 0.8732\n",
      "Epoch 12/20\n",
      "11/11 [==============================] - 0s 12ms/step - loss: 0.4656 - accuracy: 0.8275 - val_loss: 0.4412 - val_accuracy: 0.8779\n",
      "Epoch 13/20\n",
      "11/11 [==============================] - 0s 13ms/step - loss: 0.4442 - accuracy: 0.8556 - val_loss: 0.4239 - val_accuracy: 0.8826\n",
      "Epoch 14/20\n",
      "11/11 [==============================] - 0s 16ms/step - loss: 0.4261 - accuracy: 0.8908 - val_loss: 0.4070 - val_accuracy: 0.8920\n",
      "Epoch 15/20\n",
      "11/11 [==============================] - 0s 14ms/step - loss: 0.4117 - accuracy: 0.9049 - val_loss: 0.3910 - val_accuracy: 0.8920\n",
      "Epoch 16/20\n",
      "11/11 [==============================] - 0s 13ms/step - loss: 0.3907 - accuracy: 0.9085 - val_loss: 0.3761 - val_accuracy: 0.8873\n",
      "Epoch 17/20\n",
      "11/11 [==============================] - 0s 11ms/step - loss: 0.3709 - accuracy: 0.9120 - val_loss: 0.3622 - val_accuracy: 0.8779\n",
      "Epoch 18/20\n",
      "11/11 [==============================] - 0s 13ms/step - loss: 0.3582 - accuracy: 0.9085 - val_loss: 0.3493 - val_accuracy: 0.8920\n",
      "Epoch 19/20\n",
      "11/11 [==============================] - 0s 14ms/step - loss: 0.3447 - accuracy: 0.9225 - val_loss: 0.3374 - val_accuracy: 0.8967\n",
      "Epoch 20/20\n",
      "11/11 [==============================] - 0s 14ms/step - loss: 0.3335 - accuracy: 0.9331 - val_loss: 0.3266 - val_accuracy: 0.9061\n"
     ]
    },
    {
     "data": {
      "image/png": "[encoded data removed]",
      "text/plain": [
       "<Figure size 576x432 with 1 Axes>"
      ]
     },
     "metadata": {
      "needs_background": "light"
     },
     "output_type": "display_data"
    },
    {
     "name": "stdout",
     "output_type": "stream",
     "text": [
      "3/3 [==============================] - 0s 6ms/step - loss: 0.3175 - accuracy: 0.9306\n",
      "Epoch 1/20\n",
      "7/7 [==============================] - 2s 64ms/step - loss: 1.0413 - accuracy: 0.6092 - val_loss: 0.9286 - val_accuracy: 0.6432\n",
      "Epoch 2/20\n",
      "7/7 [==============================] - 0s 20ms/step - loss: 0.9965 - accuracy: 0.6092 - val_loss: 0.8938 - val_accuracy: 0.6432\n",
      "Epoch 3/20\n",
      "7/7 [==============================] - 0s 23ms/step - loss: 0.9559 - accuracy: 0.6092 - val_loss: 0.8608 - val_accuracy: 0.6432\n",
      "Epoch 4/20\n",
      "7/7 [==============================] - 0s 20ms/step - loss: 0.9222 - accuracy: 0.6092 - val_loss: 0.8297 - val_accuracy: 0.6432\n",
      "Epoch 5/20\n",
      "7/7 [==============================] - 0s 20ms/step - loss: 0.8863 - accuracy: 0.6092 - val_loss: 0.8013 - val_accuracy: 0.6432\n",
      "Epoch 6/20\n",
      "7/7 [==============================] - 0s 18ms/step - loss: 0.8569 - accuracy: 0.6092 - val_loss: 0.7741 - val_accuracy: 0.6432\n",
      "Epoch 7/20\n",
      "7/7 [==============================] - 0s 13ms/step - loss: 0.8232 - accuracy: 0.6092 - val_loss: 0.7493 - val_accuracy: 0.6432\n",
      "Epoch 8/20\n",
      "7/7 [==============================] - 0s 18ms/step - loss: 0.7986 - accuracy: 0.6092 - val_loss: 0.7258 - val_accuracy: 0.6432\n",
      "Epoch 9/20\n",
      "7/7 [==============================] - 0s 16ms/step - loss: 0.7720 - accuracy: 0.6092 - val_loss: 0.7035 - val_accuracy: 0.6432\n",
      "Epoch 10/20\n",
      "7/7 [==============================] - 0s 15ms/step - loss: 0.7430 - accuracy: 0.6092 - val_loss: 0.6826 - val_accuracy: 0.6432\n",
      "Epoch 11/20\n",
      "7/7 [==============================] - 0s 15ms/step - loss: 0.7215 - accuracy: 0.6092 - val_loss: 0.6628 - val_accuracy: 0.6432\n",
      "Epoch 12/20\n",
      "7/7 [==============================] - 0s 17ms/step - loss: 0.7009 - accuracy: 0.6092 - val_loss: 0.6428 - val_accuracy: 0.6432\n",
      "Epoch 13/20\n",
      "7/7 [==============================] - 0s 22ms/step - loss: 0.6743 - accuracy: 0.6092 - val_loss: 0.6247 - val_accuracy: 0.6432\n",
      "Epoch 14/20\n",
      "7/7 [==============================] - 0s 21ms/step - loss: 0.6557 - accuracy: 0.6092 - val_loss: 0.6067 - val_accuracy: 0.6432\n",
      "Epoch 15/20\n",
      "7/7 [==============================] - 0s 19ms/step - loss: 0.6347 - accuracy: 0.6092 - val_loss: 0.5897 - val_accuracy: 0.6432\n",
      "Epoch 16/20\n",
      "7/7 [==============================] - 0s 16ms/step - loss: 0.6133 - accuracy: 0.6092 - val_loss: 0.5737 - val_accuracy: 0.6432\n",
      "Epoch 17/20\n",
      "7/7 [==============================] - 0s 18ms/step - loss: 0.5964 - accuracy: 0.6092 - val_loss: 0.5587 - val_accuracy: 0.6432\n",
      "Epoch 18/20\n",
      "7/7 [==============================] - 0s 19ms/step - loss: 0.5791 - accuracy: 0.6092 - val_loss: 0.5442 - val_accuracy: 0.6432\n",
      "Epoch 19/20\n",
      "7/7 [==============================] - 0s 19ms/step - loss: 0.5596 - accuracy: 0.6092 - val_loss: 0.5308 - val_accuracy: 0.6432\n",
      "Epoch 20/20\n",
      "7/7 [==============================] - 0s 19ms/step - loss: 0.5491 - accuracy: 0.6092 - val_loss: 0.5178 - val_accuracy: 0.6432\n"
     ]
    },
    {
     "data": {
      "image/png": "[encoded data removed]",
      "text/plain": [
       "<Figure size 576x432 with 1 Axes>"
      ]
     },
     "metadata": {
      "needs_background": "light"
     },
     "output_type": "display_data"
    },
    {
     "name": "stdout",
     "output_type": "stream",
     "text": [
      "3/3 [==============================] - 0s 6ms/step - loss: 0.5024 - accuracy: 0.6528\n",
      "Epoch 1/20\n",
      "6/6 [==============================] - 2s 64ms/step - loss: 0.6348 - accuracy: 0.7077 - val_loss: 0.6158 - val_accuracy: 0.7512\n",
      "Epoch 2/20\n",
      "6/6 [==============================] - 0s 24ms/step - loss: 0.6218 - accuracy: 0.7218 - val_loss: 0.6001 - val_accuracy: 0.7606\n",
      "Epoch 3/20\n",
      "6/6 [==============================] - 0s 22ms/step - loss: 0.6104 - accuracy: 0.7394 - val_loss: 0.5872 - val_accuracy: 0.8122\n",
      "Epoch 4/20\n",
      "6/6 [==============================] - 0s 18ms/step - loss: 0.5938 - accuracy: 0.7641 - val_loss: 0.5751 - val_accuracy: 0.8357\n",
      "Epoch 5/20\n",
      "6/6 [==============================] - 0s 17ms/step - loss: 0.5805 - accuracy: 0.7958 - val_loss: 0.5635 - val_accuracy: 0.8404\n",
      "Epoch 6/20\n",
      "6/6 [==============================] - 0s 16ms/step - loss: 0.5711 - accuracy: 0.8028 - val_loss: 0.5518 - val_accuracy: 0.8451\n",
      "Epoch 7/20\n",
      "6/6 [==============================] - 0s 20ms/step - loss: 0.5575 - accuracy: 0.8204 - val_loss: 0.5405 - val_accuracy: 0.8498\n",
      "Epoch 8/20\n",
      "6/6 [==============================] - 0s 16ms/step - loss: 0.5446 - accuracy: 0.8415 - val_loss: 0.5296 - val_accuracy: 0.8685\n",
      "Epoch 9/20\n",
      "6/6 [==============================] - 0s 12ms/step - loss: 0.5365 - accuracy: 0.8521 - val_loss: 0.5200 - val_accuracy: 0.8732\n",
      "Epoch 10/20\n",
      "6/6 [==============================] - 0s 19ms/step - loss: 0.5210 - accuracy: 0.8803 - val_loss: 0.5107 - val_accuracy: 0.8779\n",
      "Epoch 11/20\n",
      "6/6 [==============================] - 0s 20ms/step - loss: 0.5167 - accuracy: 0.8873 - val_loss: 0.5017 - val_accuracy: 0.8920\n",
      "Epoch 12/20\n",
      "6/6 [==============================] - 0s 18ms/step - loss: 0.5017 - accuracy: 0.8908 - val_loss: 0.4920 - val_accuracy: 0.8967\n",
      "Epoch 13/20\n",
      "6/6 [==============================] - 0s 15ms/step - loss: 0.4886 - accuracy: 0.9049 - val_loss: 0.4821 - val_accuracy: 0.8967\n",
      "Epoch 14/20\n",
      "6/6 [==============================] - 0s 19ms/step - loss: 0.4802 - accuracy: 0.9049 - val_loss: 0.4723 - val_accuracy: 0.8967\n",
      "Epoch 15/20\n",
      "6/6 [==============================] - 0s 18ms/step - loss: 0.4691 - accuracy: 0.9085 - val_loss: 0.4625 - val_accuracy: 0.8967\n",
      "Epoch 16/20\n",
      "6/6 [==============================] - 0s 17ms/step - loss: 0.4595 - accuracy: 0.9085 - val_loss: 0.4530 - val_accuracy: 0.9014\n",
      "Epoch 17/20\n",
      "6/6 [==============================] - 0s 26ms/step - loss: 0.4491 - accuracy: 0.9190 - val_loss: 0.4438 - val_accuracy: 0.8967\n",
      "Epoch 18/20\n",
      "6/6 [==============================] - 0s 18ms/step - loss: 0.4413 - accuracy: 0.9155 - val_loss: 0.4351 - val_accuracy: 0.8967\n",
      "Epoch 19/20\n",
      "6/6 [==============================] - 0s 17ms/step - loss: 0.4349 - accuracy: 0.9190 - val_loss: 0.4266 - val_accuracy: 0.8967\n",
      "Epoch 20/20\n",
      "6/6 [==============================] - 0s 22ms/step - loss: 0.4224 - accuracy: 0.9155 - val_loss: 0.4188 - val_accuracy: 0.8967\n"
     ]
    },
    {
     "data": {
      "image/png": "[encoded data removed]",
      "text/plain": [
       "<Figure size 576x432 with 1 Axes>"
      ]
     },
     "metadata": {
      "needs_background": "light"
     },
     "output_type": "display_data"
    },
    {
     "name": "stdout",
     "output_type": "stream",
     "text": [
      "3/3 [==============================] - 0s 5ms/step - loss: 0.4097 - accuracy: 0.9306\n"
     ]
    },
    {
     "data": {
      "text/html": [
       "<div>\n",
       "<style scoped>\n",
       "    .dataframe tbody tr th:only-of-type {\n",
       "        vertical-align: middle;\n",
       "    }\n",
       "\n",
       "    .dataframe tbody tr th {\n",
       "        vertical-align: top;\n",
       "    }\n",
       "\n",
       "    .dataframe thead th {\n",
       "        text-align: right;\n",
       "    }\n",
       "</style>\n",
       "<table border=\"1\" class=\"dataframe\">\n",
       "  <thead>\n",
       "    <tr style=\"text-align: right;\">\n",
       "      <th></th>\n",
       "      <th>batch_no</th>\n",
       "      <th>pred</th>\n",
       "      <th>acc</th>\n",
       "    </tr>\n",
       "  </thead>\n",
       "  <tbody>\n",
       "    <tr>\n",
       "      <th>0</th>\n",
       "      <td>14</td>\n",
       "      <td>0.266862</td>\n",
       "      <td>0.930556</td>\n",
       "    </tr>\n",
       "    <tr>\n",
       "      <th>1</th>\n",
       "      <td>28</td>\n",
       "      <td>0.317471</td>\n",
       "      <td>0.930556</td>\n",
       "    </tr>\n",
       "    <tr>\n",
       "      <th>2</th>\n",
       "      <td>42</td>\n",
       "      <td>0.502424</td>\n",
       "      <td>0.652778</td>\n",
       "    </tr>\n",
       "    <tr>\n",
       "      <th>3</th>\n",
       "      <td>56</td>\n",
       "      <td>0.409736</td>\n",
       "      <td>0.930556</td>\n",
       "    </tr>\n",
       "  </tbody>\n",
       "</table>\n",
       "</div>"
      ],
      "text/plain": [
       "   batch_no      pred       acc\n",
       "0        14  0.266862  0.930556\n",
       "1        28  0.317471  0.930556\n",
       "2        42  0.502424  0.652778\n",
       "3        56  0.409736  0.930556"
      ]
     },
     "execution_count": 69,
     "metadata": {},
     "output_type": "execute_result"
    }
   ],
   "source": [
    "import numpy as np\n",
    "\n",
    "preds = []\n",
    "for x in np.arange(1, 5)*BATCH_SIZE:\n",
    "    model_3 = None\n",
    "    history_3 = None\n",
    "    model_3 = keras.Sequential([\n",
    "        keras.Input(shape=(5,)),\n",
    "        keras.layers.Dense(12, activation=\"relu\"),\n",
    "        keras.layers.Dropout(DROPOUT_RATE**2),\n",
    "        keras.layers.Dense(6, activation=\"relu\"),\n",
    "        keras.layers.Dense(4, activation=\"sigmoid\"),\n",
    "        keras.layers.Dense(2, activation=\"sigmoid\")\n",
    "    ])\n",
    "    model_3.compile(\n",
    "        optimizer=keras.optimizers.Adam(learning_rate=LEARN_RATE),\n",
    "        loss=keras.losses.SparseCategoricalCrossentropy(),\n",
    "        metrics=['accuracy']\n",
    "    )\n",
    "    history_3 = model_3.fit(\n",
    "        X_norm_train_3, y_train_2,\n",
    "        epochs=EPOCH_LENGTH*2,\n",
    "        batch_size=x,\n",
    "        validation_data=(X_norm_val_3, y_valid_2)\n",
    "    )\n",
    "\n",
    "    plot_history_performance(history=history_3)\n",
    "\n",
    "    pred, acc = model_3.evaluate(X_norm_test_3, y_test_2)\n",
    "    preds.append(dict(batch_no=x, pred=pred, acc=acc))\n",
    "\n",
    "__dff = pd.DataFrame(preds)\n",
    "__dff"
   ]
  },
  {
   "cell_type": "code",
   "execution_count": 70,
   "metadata": {},
   "outputs": [
    {
     "name": "stdout",
     "output_type": "stream",
     "text": [
      "Epoch 1/20\n",
      "11/11 [==============================] - 2s 60ms/step - loss: 0.6770 - accuracy: 0.6092 - val_loss: 0.6684 - val_accuracy: 0.6432\n",
      "Epoch 2/20\n",
      "11/11 [==============================] - 0s 12ms/step - loss: 0.6726 - accuracy: 0.6092 - val_loss: 0.6623 - val_accuracy: 0.6432\n",
      "Epoch 3/20\n",
      "11/11 [==============================] - 0s 13ms/step - loss: 0.6684 - accuracy: 0.6092 - val_loss: 0.6563 - val_accuracy: 0.6432\n",
      "Epoch 4/20\n",
      "11/11 [==============================] - 0s 13ms/step - loss: 0.6642 - accuracy: 0.6092 - val_loss: 0.6505 - val_accuracy: 0.6432\n",
      "Epoch 5/20\n",
      "11/11 [==============================] - 0s 12ms/step - loss: 0.6586 - accuracy: 0.6092 - val_loss: 0.6450 - val_accuracy: 0.6432\n",
      "Epoch 6/20\n",
      "11/11 [==============================] - 0s 13ms/step - loss: 0.6543 - accuracy: 0.6092 - val_loss: 0.6388 - val_accuracy: 0.6432\n",
      "Epoch 7/20\n",
      "11/11 [==============================] - 0s 11ms/step - loss: 0.6486 - accuracy: 0.6092 - val_loss: 0.6325 - val_accuracy: 0.6432\n",
      "Epoch 8/20\n",
      "11/11 [==============================] - 0s 12ms/step - loss: 0.6423 - accuracy: 0.6092 - val_loss: 0.6247 - val_accuracy: 0.6385\n",
      "Epoch 9/20\n",
      "11/11 [==============================] - 0s 12ms/step - loss: 0.6339 - accuracy: 0.6092 - val_loss: 0.6156 - val_accuracy: 0.6385\n",
      "Epoch 10/20\n",
      "11/11 [==============================] - 0s 13ms/step - loss: 0.6248 - accuracy: 0.6092 - val_loss: 0.6042 - val_accuracy: 0.6385\n",
      "Epoch 11/20\n",
      "11/11 [==============================] - 0s 14ms/step - loss: 0.6145 - accuracy: 0.6092 - val_loss: 0.5912 - val_accuracy: 0.6432\n",
      "Epoch 12/20\n",
      "11/11 [==============================] - 0s 13ms/step - loss: 0.6023 - accuracy: 0.6197 - val_loss: 0.5742 - val_accuracy: 0.6385\n",
      "Epoch 13/20\n",
      "11/11 [==============================] - 0s 16ms/step - loss: 0.5837 - accuracy: 0.6338 - val_loss: 0.5546 - val_accuracy: 0.6761\n",
      "Epoch 14/20\n",
      "11/11 [==============================] - 0s 16ms/step - loss: 0.5641 - accuracy: 0.6585 - val_loss: 0.5325 - val_accuracy: 0.7371\n",
      "Epoch 15/20\n",
      "11/11 [==============================] - 0s 14ms/step - loss: 0.5388 - accuracy: 0.7077 - val_loss: 0.5096 - val_accuracy: 0.7700\n",
      "Epoch 16/20\n",
      "11/11 [==============================] - 0s 15ms/step - loss: 0.5133 - accuracy: 0.7641 - val_loss: 0.4870 - val_accuracy: 0.8216\n",
      "Epoch 17/20\n",
      "11/11 [==============================] - 0s 14ms/step - loss: 0.4927 - accuracy: 0.7852 - val_loss: 0.4650 - val_accuracy: 0.8685\n",
      "Epoch 18/20\n",
      "11/11 [==============================] - 0s 14ms/step - loss: 0.4682 - accuracy: 0.8239 - val_loss: 0.4447 - val_accuracy: 0.8779\n",
      "Epoch 19/20\n",
      "11/11 [==============================] - 0s 13ms/step - loss: 0.4460 - accuracy: 0.8697 - val_loss: 0.4264 - val_accuracy: 0.8873\n",
      "Epoch 20/20\n",
      "11/11 [==============================] - 0s 9ms/step - loss: 0.4260 - accuracy: 0.8944 - val_loss: 0.4090 - val_accuracy: 0.8920\n"
     ]
    },
    {
     "data": {
      "image/png": "[encoded data removed]",
      "text/plain": [
       "<Figure size 576x432 with 1 Axes>"
      ]
     },
     "metadata": {
      "needs_background": "light"
     },
     "output_type": "display_data"
    },
    {
     "name": "stdout",
     "output_type": "stream",
     "text": [
      "3/3 [==============================] - 0s 3ms/step - loss: 0.4043 - accuracy: 0.9444\n"
     ]
    }
   ],
   "source": [
    "model_4 = None\n",
    "history_4 = None\n",
    "model_4 = keras.Sequential([\n",
    "    keras.Input(shape=(5,)),\n",
    "    keras.layers.Dense(12, activation=\"relu\"),\n",
    "    keras.layers.Dropout(DROPOUT_RATE**2),\n",
    "    keras.layers.Dense(6, activation=\"relu\"),\n",
    "    keras.layers.Dense(4, activation=\"sigmoid\"),\n",
    "    keras.layers.Dense(2, activation=\"sigmoid\")\n",
    "])\n",
    "model_4.compile(\n",
    "    optimizer=keras.optimizers.Adam(learning_rate=LEARN_RATE),\n",
    "    loss=keras.losses.SparseCategoricalCrossentropy(),\n",
    "    metrics=['accuracy']\n",
    ")\n",
    "history_4 = model_4.fit(\n",
    "    X_norm_train_3, y_train_2,\n",
    "    epochs=EPOCH_LENGTH*2,\n",
    "    batch_size=28,\n",
    "    validation_data=(X_norm_val_3, y_valid_2)\n",
    ")\n",
    "\n",
    "plot_history_performance(history=history_4)\n",
    "\n",
    "pred, acc = model_4.evaluate(X_norm_test_3, y_test_2)"
   ]
  },
  {
   "cell_type": "code",
   "execution_count": 67,
   "metadata": {},
   "outputs": [
    {
     "name": "stdout",
     "output_type": "stream",
     "text": [
      "INFO:tensorflow:Assets written to: trained_model\\assets\n"
     ]
    }
   ],
   "source": [
    "model_4.save(\"trained_model\", save_format=\"tf\", overwrite=True, include_optimizer=True)"
   ]
  }
 ],
 "metadata": {
  "kernelspec": {
   "display_name": "Python 3.10.5 64-bit",
   "language": "python",
   "name": "python3"
  },
  "language_info": {
   "codemirror_mode": {
    "name": "ipython",
    "version": 3
   },
   "file_extension": ".py",
   "mimetype": "text/x-python",
   "name": "python",
   "nbconvert_exporter": "python",
   "pygments_lexer": "ipython3",
   "version": "3.10.5"
  },
  "orig_nbformat": 4,
  "vscode": {
   "interpreter": {
    "hash": "213524bb45a1aeaf737b1d8c77d7b8db5d425938d9dffc5f4bc6fe6dd3324700"
   }
  }
 },
 "nbformat": 4,
 "nbformat_minor": 2
}
