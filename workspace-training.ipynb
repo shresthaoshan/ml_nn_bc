{
 "cells": [
  {
   "cell_type": "markdown",
   "metadata": {},
   "source": [
    "## Imports"
   ]
  },
  {
   "cell_type": "code",
   "execution_count": 753,
   "metadata": {},
   "outputs": [],
   "source": [
    "import pandas as pd\n",
    "import tensorflow as tf\n",
    "from tensorflow import keras\n",
    "import matplotlib.pyplot as plt\n",
    "import seaborn as sns\n",
    "from sklearn.model_selection import train_test_split\n",
    "from sklearn.preprocessing import StandardScaler\n",
    "from sklearn.metrics import accuracy_score\n",
    "from sklearn.feature_selection import SelectKBest, chi2"
   ]
  },
  {
   "cell_type": "markdown",
   "metadata": {},
   "source": [
    "## Preparations"
   ]
  },
  {
   "cell_type": "code",
   "execution_count": 754,
   "metadata": {},
   "outputs": [
    {
     "data": {
      "text/html": [
       "<div>\n",
       "<style scoped>\n",
       "    .dataframe tbody tr th:only-of-type {\n",
       "        vertical-align: middle;\n",
       "    }\n",
       "\n",
       "    .dataframe tbody tr th {\n",
       "        vertical-align: top;\n",
       "    }\n",
       "\n",
       "    .dataframe thead th {\n",
       "        text-align: right;\n",
       "    }\n",
       "</style>\n",
       "<table border=\"1\" class=\"dataframe\">\n",
       "  <thead>\n",
       "    <tr style=\"text-align: right;\">\n",
       "      <th></th>\n",
       "      <th>id</th>\n",
       "      <th>diagnosis</th>\n",
       "      <th>radius_mean</th>\n",
       "      <th>texture_mean</th>\n",
       "      <th>perimeter_mean</th>\n",
       "      <th>area_mean</th>\n",
       "      <th>smoothness_mean</th>\n",
       "      <th>compactness_mean</th>\n",
       "      <th>concavity_mean</th>\n",
       "      <th>concave points_mean</th>\n",
       "      <th>...</th>\n",
       "      <th>texture_worst</th>\n",
       "      <th>perimeter_worst</th>\n",
       "      <th>area_worst</th>\n",
       "      <th>smoothness_worst</th>\n",
       "      <th>compactness_worst</th>\n",
       "      <th>concavity_worst</th>\n",
       "      <th>concave points_worst</th>\n",
       "      <th>symmetry_worst</th>\n",
       "      <th>fractal_dimension_worst</th>\n",
       "      <th>Unnamed: 32</th>\n",
       "    </tr>\n",
       "  </thead>\n",
       "  <tbody>\n",
       "    <tr>\n",
       "      <th>0</th>\n",
       "      <td>842302</td>\n",
       "      <td>M</td>\n",
       "      <td>17.99</td>\n",
       "      <td>10.38</td>\n",
       "      <td>122.80</td>\n",
       "      <td>1001.0</td>\n",
       "      <td>0.11840</td>\n",
       "      <td>0.27760</td>\n",
       "      <td>0.3001</td>\n",
       "      <td>0.14710</td>\n",
       "      <td>...</td>\n",
       "      <td>17.33</td>\n",
       "      <td>184.60</td>\n",
       "      <td>2019.0</td>\n",
       "      <td>0.1622</td>\n",
       "      <td>0.6656</td>\n",
       "      <td>0.7119</td>\n",
       "      <td>0.2654</td>\n",
       "      <td>0.4601</td>\n",
       "      <td>0.11890</td>\n",
       "      <td>NaN</td>\n",
       "    </tr>\n",
       "    <tr>\n",
       "      <th>1</th>\n",
       "      <td>842517</td>\n",
       "      <td>M</td>\n",
       "      <td>20.57</td>\n",
       "      <td>17.77</td>\n",
       "      <td>132.90</td>\n",
       "      <td>1326.0</td>\n",
       "      <td>0.08474</td>\n",
       "      <td>0.07864</td>\n",
       "      <td>0.0869</td>\n",
       "      <td>0.07017</td>\n",
       "      <td>...</td>\n",
       "      <td>23.41</td>\n",
       "      <td>158.80</td>\n",
       "      <td>1956.0</td>\n",
       "      <td>0.1238</td>\n",
       "      <td>0.1866</td>\n",
       "      <td>0.2416</td>\n",
       "      <td>0.1860</td>\n",
       "      <td>0.2750</td>\n",
       "      <td>0.08902</td>\n",
       "      <td>NaN</td>\n",
       "    </tr>\n",
       "    <tr>\n",
       "      <th>2</th>\n",
       "      <td>84300903</td>\n",
       "      <td>M</td>\n",
       "      <td>19.69</td>\n",
       "      <td>21.25</td>\n",
       "      <td>130.00</td>\n",
       "      <td>1203.0</td>\n",
       "      <td>0.10960</td>\n",
       "      <td>0.15990</td>\n",
       "      <td>0.1974</td>\n",
       "      <td>0.12790</td>\n",
       "      <td>...</td>\n",
       "      <td>25.53</td>\n",
       "      <td>152.50</td>\n",
       "      <td>1709.0</td>\n",
       "      <td>0.1444</td>\n",
       "      <td>0.4245</td>\n",
       "      <td>0.4504</td>\n",
       "      <td>0.2430</td>\n",
       "      <td>0.3613</td>\n",
       "      <td>0.08758</td>\n",
       "      <td>NaN</td>\n",
       "    </tr>\n",
       "    <tr>\n",
       "      <th>3</th>\n",
       "      <td>84348301</td>\n",
       "      <td>M</td>\n",
       "      <td>11.42</td>\n",
       "      <td>20.38</td>\n",
       "      <td>77.58</td>\n",
       "      <td>386.1</td>\n",
       "      <td>0.14250</td>\n",
       "      <td>0.28390</td>\n",
       "      <td>0.2414</td>\n",
       "      <td>0.10520</td>\n",
       "      <td>...</td>\n",
       "      <td>26.50</td>\n",
       "      <td>98.87</td>\n",
       "      <td>567.7</td>\n",
       "      <td>0.2098</td>\n",
       "      <td>0.8663</td>\n",
       "      <td>0.6869</td>\n",
       "      <td>0.2575</td>\n",
       "      <td>0.6638</td>\n",
       "      <td>0.17300</td>\n",
       "      <td>NaN</td>\n",
       "    </tr>\n",
       "    <tr>\n",
       "      <th>4</th>\n",
       "      <td>84358402</td>\n",
       "      <td>M</td>\n",
       "      <td>20.29</td>\n",
       "      <td>14.34</td>\n",
       "      <td>135.10</td>\n",
       "      <td>1297.0</td>\n",
       "      <td>0.10030</td>\n",
       "      <td>0.13280</td>\n",
       "      <td>0.1980</td>\n",
       "      <td>0.10430</td>\n",
       "      <td>...</td>\n",
       "      <td>16.67</td>\n",
       "      <td>152.20</td>\n",
       "      <td>1575.0</td>\n",
       "      <td>0.1374</td>\n",
       "      <td>0.2050</td>\n",
       "      <td>0.4000</td>\n",
       "      <td>0.1625</td>\n",
       "      <td>0.2364</td>\n",
       "      <td>0.07678</td>\n",
       "      <td>NaN</td>\n",
       "    </tr>\n",
       "  </tbody>\n",
       "</table>\n",
       "<p>5 rows × 33 columns</p>\n",
       "</div>"
      ],
      "text/plain": [
       "         id diagnosis  radius_mean  texture_mean  perimeter_mean  area_mean  \\\n",
       "0    842302         M        17.99         10.38          122.80     1001.0   \n",
       "1    842517         M        20.57         17.77          132.90     1326.0   \n",
       "2  84300903         M        19.69         21.25          130.00     1203.0   \n",
       "3  84348301         M        11.42         20.38           77.58      386.1   \n",
       "4  84358402         M        20.29         14.34          135.10     1297.0   \n",
       "\n",
       "   smoothness_mean  compactness_mean  concavity_mean  concave points_mean  \\\n",
       "0          0.11840           0.27760          0.3001              0.14710   \n",
       "1          0.08474           0.07864          0.0869              0.07017   \n",
       "2          0.10960           0.15990          0.1974              0.12790   \n",
       "3          0.14250           0.28390          0.2414              0.10520   \n",
       "4          0.10030           0.13280          0.1980              0.10430   \n",
       "\n",
       "   ...  texture_worst  perimeter_worst  area_worst  smoothness_worst  \\\n",
       "0  ...          17.33           184.60      2019.0            0.1622   \n",
       "1  ...          23.41           158.80      1956.0            0.1238   \n",
       "2  ...          25.53           152.50      1709.0            0.1444   \n",
       "3  ...          26.50            98.87       567.7            0.2098   \n",
       "4  ...          16.67           152.20      1575.0            0.1374   \n",
       "\n",
       "   compactness_worst  concavity_worst  concave points_worst  symmetry_worst  \\\n",
       "0             0.6656           0.7119                0.2654          0.4601   \n",
       "1             0.1866           0.2416                0.1860          0.2750   \n",
       "2             0.4245           0.4504                0.2430          0.3613   \n",
       "3             0.8663           0.6869                0.2575          0.6638   \n",
       "4             0.2050           0.4000                0.1625          0.2364   \n",
       "\n",
       "   fractal_dimension_worst  Unnamed: 32  \n",
       "0                  0.11890          NaN  \n",
       "1                  0.08902          NaN  \n",
       "2                  0.08758          NaN  \n",
       "3                  0.17300          NaN  \n",
       "4                  0.07678          NaN  \n",
       "\n",
       "[5 rows x 33 columns]"
      ]
     },
     "execution_count": 754,
     "metadata": {},
     "output_type": "execute_result"
    }
   ],
   "source": [
    "_df = pd.read_csv(\"./datasets/breast-cancer-wisconsin.csv\")\n",
    "_df.head()"
   ]
  },
  {
   "cell_type": "code",
   "execution_count": 755,
   "metadata": {},
   "outputs": [
    {
     "data": {
      "text/plain": [
       "(   radius_mean  texture_mean  perimeter_mean  area_mean  smoothness_mean  \\\n",
       " 0        17.99         10.38          122.80     1001.0          0.11840   \n",
       " 1        20.57         17.77          132.90     1326.0          0.08474   \n",
       " 2        19.69         21.25          130.00     1203.0          0.10960   \n",
       " 3        11.42         20.38           77.58      386.1          0.14250   \n",
       " 4        20.29         14.34          135.10     1297.0          0.10030   \n",
       " \n",
       "    compactness_mean  concavity_mean  concave points_mean  symmetry_mean  \\\n",
       " 0           0.27760          0.3001              0.14710         0.2419   \n",
       " 1           0.07864          0.0869              0.07017         0.1812   \n",
       " 2           0.15990          0.1974              0.12790         0.2069   \n",
       " 3           0.28390          0.2414              0.10520         0.2597   \n",
       " 4           0.13280          0.1980              0.10430         0.1809   \n",
       " \n",
       "    fractal_dimension_mean  ...  radius_worst  texture_worst  perimeter_worst  \\\n",
       " 0                 0.07871  ...         25.38          17.33           184.60   \n",
       " 1                 0.05667  ...         24.99          23.41           158.80   \n",
       " 2                 0.05999  ...         23.57          25.53           152.50   \n",
       " 3                 0.09744  ...         14.91          26.50            98.87   \n",
       " 4                 0.05883  ...         22.54          16.67           152.20   \n",
       " \n",
       "    area_worst  smoothness_worst  compactness_worst  concavity_worst  \\\n",
       " 0      2019.0            0.1622             0.6656           0.7119   \n",
       " 1      1956.0            0.1238             0.1866           0.2416   \n",
       " 2      1709.0            0.1444             0.4245           0.4504   \n",
       " 3       567.7            0.2098             0.8663           0.6869   \n",
       " 4      1575.0            0.1374             0.2050           0.4000   \n",
       " \n",
       "    concave points_worst  symmetry_worst  fractal_dimension_worst  \n",
       " 0                0.2654          0.4601                  0.11890  \n",
       " 1                0.1860          0.2750                  0.08902  \n",
       " 2                0.2430          0.3613                  0.08758  \n",
       " 3                0.2575          0.6638                  0.17300  \n",
       " 4                0.1625          0.2364                  0.07678  \n",
       " \n",
       " [5 rows x 30 columns],\n",
       " 0      0\n",
       " 1      0\n",
       " 2      0\n",
       " 3      0\n",
       " 4      0\n",
       "       ..\n",
       " 564    0\n",
       " 565    0\n",
       " 566    0\n",
       " 567    0\n",
       " 568    1\n",
       " Length: 569, dtype: int64)"
      ]
     },
     "execution_count": 755,
     "metadata": {},
     "output_type": "execute_result"
    }
   ],
   "source": [
    "y = _df.diagnosis\n",
    "y = pd.Series([int(x == \"B\") for x in y])\n",
    "x = _df.drop([\"Unnamed: 32\", \"id\", \"diagnosis\"], axis=1)\n",
    "x.head(), y"
   ]
  },
  {
   "cell_type": "code",
   "execution_count": 756,
   "metadata": {},
   "outputs": [],
   "source": [
    "def plot_history_performance(history):\n",
    "    plt.figure(figsize=(8,6))\n",
    "    plt.plot(history.history['accuracy'], color='#FFCC00', animated=True, label=\"Training Acc\")\n",
    "    plt.plot(history.history['val_accuracy'], color='green', animated=True, label=\"Validation Acc\")\n",
    "    plt.title(\"Model Accuracy\")\n",
    "    plt.ylabel(\"Accuracy\")\n",
    "    plt.xlabel(\"Epoch\")\n",
    "    plt.legend()\n",
    "    plt.show()"
   ]
  },
  {
   "cell_type": "markdown",
   "metadata": {},
   "source": [
    "## Rough ANN"
   ]
  },
  {
   "cell_type": "code",
   "execution_count": 757,
   "metadata": {},
   "outputs": [
    {
     "data": {
      "text/plain": [
       "((569, 30), (284, 30), (213, 30), (72, 30))"
      ]
     },
     "execution_count": 757,
     "metadata": {},
     "output_type": "execute_result"
    }
   ],
   "source": [
    "X_train, X_temp, y_train, y_temp = train_test_split(x, y, test_size=.5, random_state=36)\n",
    "X_valid, X_test, y_valid, y_test = train_test_split(X_temp, y_temp, test_size=.25, random_state=43)\n",
    "x.shape, X_train.shape, X_valid.shape, X_test.shape"
   ]
  },
  {
   "cell_type": "code",
   "execution_count": 758,
   "metadata": {},
   "outputs": [],
   "source": [
    "scaler = StandardScaler()\n",
    "X_norm_train, X_norm_val, X_norm_test = scaler.fit_transform(X_train), scaler.transform(X_valid), scaler.transform(X_test)"
   ]
  },
  {
   "cell_type": "code",
   "execution_count": 759,
   "metadata": {},
   "outputs": [],
   "source": [
    "# HYPER-PARAMS\n",
    "EPOCH_LENGTH=10\n",
    "BATCH_SIZE=14\n",
    "\n",
    "LEARN_RATE=.001\n",
    "\n",
    "DROPOUT_RATE=.2"
   ]
  },
  {
   "cell_type": "code",
   "execution_count": 760,
   "metadata": {},
   "outputs": [],
   "source": [
    "model = keras.Sequential([\n",
    "    keras.Input(shape=(30,)),\n",
    "    keras.layers.Dense(20, activation=\"relu\"),\n",
    "    keras.layers.Dropout(DROPOUT_RATE),\n",
    "    keras.layers.Dense(2, activation=\"sigmoid\")\n",
    "])\n",
    "model.compile(\n",
    "    optimizer=keras.optimizers.Adam(learning_rate=LEARN_RATE),\n",
    "    loss=keras.losses.SparseCategoricalCrossentropy(),\n",
    "    metrics=['accuracy']\n",
    ")"
   ]
  },
  {
   "cell_type": "code",
   "execution_count": 761,
   "metadata": {},
   "outputs": [
    {
     "name": "stdout",
     "output_type": "stream",
     "text": [
      "Epoch 1/10\n",
      "21/21 [==============================] - 2s 22ms/step - loss: 1.1204 - accuracy: 0.3028 - val_loss: 0.8394 - val_accuracy: 0.4460\n",
      "Epoch 2/10\n",
      "21/21 [==============================] - 0s 7ms/step - loss: 0.6602 - accuracy: 0.6056 - val_loss: 0.5072 - val_accuracy: 0.8028\n",
      "Epoch 3/10\n",
      "21/21 [==============================] - 0s 10ms/step - loss: 0.4357 - accuracy: 0.8169 - val_loss: 0.3685 - val_accuracy: 0.8732\n",
      "Epoch 4/10\n",
      "21/21 [==============================] - 0s 9ms/step - loss: 0.3162 - accuracy: 0.9085 - val_loss: 0.2992 - val_accuracy: 0.9014\n",
      "Epoch 5/10\n",
      "21/21 [==============================] - 0s 7ms/step - loss: 0.2499 - accuracy: 0.9401 - val_loss: 0.2546 - val_accuracy: 0.9296\n",
      "Epoch 6/10\n",
      "21/21 [==============================] - 0s 9ms/step - loss: 0.2243 - accuracy: 0.9401 - val_loss: 0.2237 - val_accuracy: 0.9390\n",
      "Epoch 7/10\n",
      "21/21 [==============================] - 0s 9ms/step - loss: 0.1850 - accuracy: 0.9613 - val_loss: 0.2008 - val_accuracy: 0.9531\n",
      "Epoch 8/10\n",
      "21/21 [==============================] - 0s 7ms/step - loss: 0.1698 - accuracy: 0.9577 - val_loss: 0.1822 - val_accuracy: 0.9577\n",
      "Epoch 9/10\n",
      "21/21 [==============================] - 0s 8ms/step - loss: 0.1458 - accuracy: 0.9648 - val_loss: 0.1649 - val_accuracy: 0.9624\n",
      "Epoch 10/10\n",
      "21/21 [==============================] - 0s 9ms/step - loss: 0.1395 - accuracy: 0.9648 - val_loss: 0.1505 - val_accuracy: 0.9671\n"
     ]
    },
    {
     "data": {
      "image/png": "[encoded data removed]",
      "text/plain": [
       "<Figure size 576x432 with 1 Axes>"
      ]
     },
     "metadata": {
      "needs_background": "light"
     },
     "output_type": "display_data"
    },
    {
     "name": "stdout",
     "output_type": "stream",
     "text": [
      "3/3 [==============================] - 0s 5ms/step - loss: 0.1736 - accuracy: 0.9444\n"
     ]
    },
    {
     "data": {
      "text/plain": [
       "[0.17361800372600555, 0.9444444179534912]"
      ]
     },
     "execution_count": 761,
     "metadata": {},
     "output_type": "execute_result"
    }
   ],
   "source": [
    "history = None\n",
    "history = model.fit(\n",
    "    X_norm_train, y_train,\n",
    "    epochs=EPOCH_LENGTH,\n",
    "    batch_size=BATCH_SIZE,\n",
    "    validation_data=(X_norm_val, y_valid)\n",
    ")\n",
    "\n",
    "plot_history_performance(history=history)\n",
    "\n",
    "model.evaluate(X_norm_test, y_test)"
   ]
  },
  {
   "cell_type": "markdown",
   "metadata": {},
   "source": [
    "## Correlated Features Dropped"
   ]
  },
  {
   "cell_type": "code",
   "execution_count": 762,
   "metadata": {},
   "outputs": [
    {
     "data": {
      "text/plain": [
       "((569, 16), (284, 16), (213, 16), (72, 16))"
      ]
     },
     "execution_count": 762,
     "metadata": {},
     "output_type": "execute_result"
    }
   ],
   "source": [
    "cols_to_drop=['perimeter_mean','radius_mean','compactness_mean','concave points_mean','radius_se','perimeter_se','radius_worst','perimeter_worst','compactness_worst','concave points_worst','compactness_se','concave points_se','texture_worst','area_worst']\n",
    "x_2 = x.drop(cols_to_drop, axis=1)\n",
    "\n",
    "X_train_2, X_temp_2, y_train_2, y_temp_2 = train_test_split(x_2, y, test_size=.5, random_state=36)\n",
    "X_valid_2, X_test_2, y_valid_2, y_test_2 = train_test_split(X_temp_2, y_temp_2, test_size=.25, random_state=43)\n",
    "x_2.shape, X_train_2.shape, X_valid_2.shape, X_test_2.shape"
   ]
  },
  {
   "cell_type": "code",
   "execution_count": 763,
   "metadata": {},
   "outputs": [],
   "source": [
    "scaler = StandardScaler()\n",
    "X_norm_train_2, X_norm_val_2, X_norm_test_2 = scaler.fit_transform(X_train_2), scaler.transform(X_valid_2), scaler.transform(X_test_2)"
   ]
  },
  {
   "cell_type": "code",
   "execution_count": 764,
   "metadata": {},
   "outputs": [],
   "source": [
    "model_2 = keras.Sequential([\n",
    "    keras.Input(shape=(16,)),\n",
    "    keras.layers.Dense(20, activation=\"relu\"),\n",
    "    keras.layers.Dropout(DROPOUT_RATE**2),\n",
    "    keras.layers.Dense(2, activation=\"sigmoid\")\n",
    "])\n",
    "model_2.compile(\n",
    "    optimizer=keras.optimizers.Adam(learning_rate=LEARN_RATE),\n",
    "    loss=keras.losses.SparseCategoricalCrossentropy(),\n",
    "    metrics=['accuracy']\n",
    ")"
   ]
  },
  {
   "cell_type": "code",
   "execution_count": 765,
   "metadata": {},
   "outputs": [
    {
     "name": "stdout",
     "output_type": "stream",
     "text": [
      "Epoch 1/20\n",
      "21/21 [==============================] - 2s 31ms/step - loss: 0.5677 - accuracy: 0.7465 - val_loss: 0.5210 - val_accuracy: 0.7887\n",
      "Epoch 2/20\n",
      "21/21 [==============================] - 0s 15ms/step - loss: 0.4360 - accuracy: 0.8521 - val_loss: 0.4250 - val_accuracy: 0.8592\n",
      "Epoch 3/20\n",
      "21/21 [==============================] - 0s 19ms/step - loss: 0.3612 - accuracy: 0.8803 - val_loss: 0.3692 - val_accuracy: 0.8826\n",
      "Epoch 4/20\n",
      "21/21 [==============================] - 1s 31ms/step - loss: 0.3200 - accuracy: 0.9120 - val_loss: 0.3301 - val_accuracy: 0.9014\n",
      "Epoch 5/20\n",
      "21/21 [==============================] - 0s 13ms/step - loss: 0.2793 - accuracy: 0.9225 - val_loss: 0.3009 - val_accuracy: 0.9296\n",
      "Epoch 6/20\n",
      "21/21 [==============================] - 0s 21ms/step - loss: 0.2548 - accuracy: 0.9296 - val_loss: 0.2749 - val_accuracy: 0.9249\n",
      "Epoch 7/20\n",
      "21/21 [==============================] - 0s 12ms/step - loss: 0.2257 - accuracy: 0.9472 - val_loss: 0.2549 - val_accuracy: 0.9484\n",
      "Epoch 8/20\n",
      "21/21 [==============================] - 0s 12ms/step - loss: 0.1987 - accuracy: 0.9472 - val_loss: 0.2373 - val_accuracy: 0.9484\n",
      "Epoch 9/20\n",
      "21/21 [==============================] - 0s 17ms/step - loss: 0.1831 - accuracy: 0.9542 - val_loss: 0.2237 - val_accuracy: 0.9484\n",
      "Epoch 10/20\n",
      "21/21 [==============================] - 0s 13ms/step - loss: 0.1661 - accuracy: 0.9542 - val_loss: 0.2103 - val_accuracy: 0.9531\n",
      "Epoch 11/20\n",
      "21/21 [==============================] - 0s 9ms/step - loss: 0.1487 - accuracy: 0.9613 - val_loss: 0.1996 - val_accuracy: 0.9531\n",
      "Epoch 12/20\n",
      "21/21 [==============================] - 0s 10ms/step - loss: 0.1449 - accuracy: 0.9648 - val_loss: 0.1896 - val_accuracy: 0.9671\n",
      "Epoch 13/20\n",
      "21/21 [==============================] - 0s 9ms/step - loss: 0.1328 - accuracy: 0.9577 - val_loss: 0.1813 - val_accuracy: 0.9671\n",
      "Epoch 14/20\n",
      "21/21 [==============================] - 0s 16ms/step - loss: 0.1242 - accuracy: 0.9683 - val_loss: 0.1756 - val_accuracy: 0.9671\n",
      "Epoch 15/20\n",
      "21/21 [==============================] - 1s 27ms/step - loss: 0.1143 - accuracy: 0.9683 - val_loss: 0.1697 - val_accuracy: 0.9671\n",
      "Epoch 16/20\n",
      "21/21 [==============================] - 0s 15ms/step - loss: 0.1104 - accuracy: 0.9577 - val_loss: 0.1638 - val_accuracy: 0.9718\n",
      "Epoch 17/20\n",
      "21/21 [==============================] - 1s 28ms/step - loss: 0.0989 - accuracy: 0.9718 - val_loss: 0.1597 - val_accuracy: 0.9718\n",
      "Epoch 18/20\n",
      "21/21 [==============================] - 1s 32ms/step - loss: 0.0974 - accuracy: 0.9789 - val_loss: 0.1544 - val_accuracy: 0.9718\n",
      "Epoch 19/20\n",
      "21/21 [==============================] - 0s 17ms/step - loss: 0.0932 - accuracy: 0.9754 - val_loss: 0.1494 - val_accuracy: 0.9718\n",
      "Epoch 20/20\n",
      "21/21 [==============================] - 1s 26ms/step - loss: 0.0915 - accuracy: 0.9718 - val_loss: 0.1441 - val_accuracy: 0.9718\n"
     ]
    },
    {
     "data": {
      "image/png": "[encoded data removed]",
      "text/plain": [
       "<Figure size 576x432 with 1 Axes>"
      ]
     },
     "metadata": {
      "needs_background": "light"
     },
     "output_type": "display_data"
    },
    {
     "name": "stdout",
     "output_type": "stream",
     "text": [
      "3/3 [==============================] - 0s 5ms/step - loss: 0.1363 - accuracy: 0.9583\n"
     ]
    },
    {
     "data": {
      "text/plain": [
       "[0.13629674911499023, 0.9583333134651184]"
      ]
     },
     "execution_count": 765,
     "metadata": {},
     "output_type": "execute_result"
    }
   ],
   "source": [
    "history_2 = None\n",
    "history_2 = model_2.fit(\n",
    "    X_norm_train_2, y_train_2,\n",
    "    epochs=EPOCH_LENGTH*2,\n",
    "    batch_size=BATCH_SIZE,\n",
    "    validation_data=(X_norm_val_2, y_valid_2)\n",
    ")\n",
    "\n",
    "plot_history_performance(history=history_2)\n",
    "\n",
    "model_2.evaluate(X_norm_test_2, y_test_2)"
   ]
  },
  {
   "cell_type": "markdown",
   "metadata": {},
   "source": [
    "## Feature Ranking and Selection"
   ]
  },
  {
   "cell_type": "code",
   "execution_count": 786,
   "metadata": {},
   "outputs": [
    {
     "data": {
      "text/html": [
       "<div>\n",
       "<style scoped>\n",
       "    .dataframe tbody tr th:only-of-type {\n",
       "        vertical-align: middle;\n",
       "    }\n",
       "\n",
       "    .dataframe tbody tr th {\n",
       "        vertical-align: top;\n",
       "    }\n",
       "\n",
       "    .dataframe thead th {\n",
       "        text-align: right;\n",
       "    }\n",
       "</style>\n",
       "<table border=\"1\" class=\"dataframe\">\n",
       "  <thead>\n",
       "    <tr style=\"text-align: right;\">\n",
       "      <th></th>\n",
       "      <th>feature</th>\n",
       "      <th>score</th>\n",
       "    </tr>\n",
       "  </thead>\n",
       "  <tbody>\n",
       "    <tr>\n",
       "      <th>1</th>\n",
       "      <td>area_mean</td>\n",
       "      <td>27701.728377</td>\n",
       "    </tr>\n",
       "    <tr>\n",
       "      <th>7</th>\n",
       "      <td>area_se</td>\n",
       "      <td>4690.218203</td>\n",
       "    </tr>\n",
       "    <tr>\n",
       "      <th>0</th>\n",
       "      <td>texture_mean</td>\n",
       "      <td>43.068601</td>\n",
       "    </tr>\n",
       "    <tr>\n",
       "      <th>13</th>\n",
       "      <td>concavity_worst</td>\n",
       "      <td>19.948642</td>\n",
       "    </tr>\n",
       "    <tr>\n",
       "      <th>3</th>\n",
       "      <td>concavity_mean</td>\n",
       "      <td>9.554123</td>\n",
       "    </tr>\n",
       "  </tbody>\n",
       "</table>\n",
       "</div>"
      ],
      "text/plain": [
       "            feature         score\n",
       "1         area_mean  27701.728377\n",
       "7           area_se   4690.218203\n",
       "0      texture_mean     43.068601\n",
       "13  concavity_worst     19.948642\n",
       "3    concavity_mean      9.554123"
      ]
     },
     "execution_count": 786,
     "metadata": {},
     "output_type": "execute_result"
    }
   ],
   "source": [
    "select_feature = SelectKBest(chi2, k=5).fit(X_train_2, y_train_2)\n",
    "\n",
    "__df = pd.DataFrame(dict(feature=X_train_2.columns, score=select_feature.scores_)).sort_values(by=\"score\", ascending=False)\n",
    "__df.head()"
   ]
  },
  {
   "cell_type": "code",
   "execution_count": 780,
   "metadata": {},
   "outputs": [],
   "source": [
    "X_train_3 = select_feature.transform(X_train_2)\n",
    "X_valid_3 = select_feature.transform(X_valid_2)\n",
    "X_test_3 = select_feature.transform(X_test_2)"
   ]
  },
  {
   "cell_type": "code",
   "execution_count": 768,
   "metadata": {},
   "outputs": [],
   "source": [
    "scaler = StandardScaler()\n",
    "X_norm_train_3, X_norm_val_3, X_norm_test_3 = scaler.fit_transform(X_train_3), scaler.transform(X_valid_3), scaler.transform(X_test_3)"
   ]
  },
  {
   "cell_type": "code",
   "execution_count": 769,
   "metadata": {},
   "outputs": [],
   "source": [
    "model_3 = keras.Sequential([\n",
    "    keras.Input(shape=(5,)),\n",
    "    keras.layers.Dense(12, activation=\"relu\"),\n",
    "    keras.layers.Dropout(DROPOUT_RATE**2),\n",
    "    keras.layers.Dense(6, activation=\"relu\"),\n",
    "    keras.layers.Dense(4, activation=\"sigmoid\"),\n",
    "    keras.layers.Dense(2, activation=\"sigmoid\")\n",
    "])\n",
    "model_3.compile(\n",
    "    optimizer=keras.optimizers.Adam(learning_rate=LEARN_RATE),\n",
    "    loss=keras.losses.SparseCategoricalCrossentropy(),\n",
    "    metrics=['accuracy']\n",
    ")"
   ]
  },
  {
   "cell_type": "code",
   "execution_count": 770,
   "metadata": {},
   "outputs": [
    {
     "name": "stdout",
     "output_type": "stream",
     "text": [
      "Epoch 1/20\n",
      "21/21 [==============================] - 5s 47ms/step - loss: 0.7163 - accuracy: 0.4085 - val_loss: 0.7053 - val_accuracy: 0.3850\n",
      "Epoch 2/20\n",
      "21/21 [==============================] - 0s 17ms/step - loss: 0.6747 - accuracy: 0.4718 - val_loss: 0.6653 - val_accuracy: 0.5211\n",
      "Epoch 3/20\n",
      "21/21 [==============================] - 0s 15ms/step - loss: 0.6418 - accuracy: 0.6655 - val_loss: 0.6281 - val_accuracy: 0.7887\n",
      "Epoch 4/20\n",
      "21/21 [==============================] - 0s 14ms/step - loss: 0.6064 - accuracy: 0.8662 - val_loss: 0.5894 - val_accuracy: 0.8732\n",
      "Epoch 5/20\n",
      "21/21 [==============================] - 0s 9ms/step - loss: 0.5703 - accuracy: 0.9049 - val_loss: 0.5511 - val_accuracy: 0.8826\n",
      "Epoch 6/20\n",
      "21/21 [==============================] - 0s 11ms/step - loss: 0.5299 - accuracy: 0.9085 - val_loss: 0.5138 - val_accuracy: 0.8920\n",
      "Epoch 7/20\n",
      "21/21 [==============================] - 0s 11ms/step - loss: 0.4892 - accuracy: 0.9190 - val_loss: 0.4772 - val_accuracy: 0.8967\n",
      "Epoch 8/20\n",
      "21/21 [==============================] - 0s 12ms/step - loss: 0.4520 - accuracy: 0.9225 - val_loss: 0.4442 - val_accuracy: 0.9014\n",
      "Epoch 9/20\n",
      "21/21 [==============================] - 0s 16ms/step - loss: 0.4149 - accuracy: 0.9261 - val_loss: 0.4155 - val_accuracy: 0.9061\n",
      "Epoch 10/20\n",
      "21/21 [==============================] - 0s 10ms/step - loss: 0.3863 - accuracy: 0.9296 - val_loss: 0.3918 - val_accuracy: 0.9108\n",
      "Epoch 11/20\n",
      "21/21 [==============================] - 0s 13ms/step - loss: 0.3607 - accuracy: 0.9331 - val_loss: 0.3724 - val_accuracy: 0.9108\n",
      "Epoch 12/20\n",
      "21/21 [==============================] - 0s 12ms/step - loss: 0.3388 - accuracy: 0.9366 - val_loss: 0.3554 - val_accuracy: 0.9108\n",
      "Epoch 13/20\n",
      "21/21 [==============================] - 0s 18ms/step - loss: 0.3203 - accuracy: 0.9401 - val_loss: 0.3410 - val_accuracy: 0.9061\n",
      "Epoch 14/20\n",
      "21/21 [==============================] - 0s 15ms/step - loss: 0.3057 - accuracy: 0.9366 - val_loss: 0.3286 - val_accuracy: 0.9061\n",
      "Epoch 15/20\n",
      "21/21 [==============================] - 0s 12ms/step - loss: 0.2905 - accuracy: 0.9366 - val_loss: 0.3175 - val_accuracy: 0.9061\n",
      "Epoch 16/20\n",
      "21/21 [==============================] - 0s 22ms/step - loss: 0.2802 - accuracy: 0.9366 - val_loss: 0.3080 - val_accuracy: 0.9108\n",
      "Epoch 17/20\n",
      "21/21 [==============================] - 0s 14ms/step - loss: 0.2682 - accuracy: 0.9366 - val_loss: 0.2997 - val_accuracy: 0.9108\n",
      "Epoch 18/20\n",
      "21/21 [==============================] - 0s 10ms/step - loss: 0.2610 - accuracy: 0.9366 - val_loss: 0.2917 - val_accuracy: 0.9108\n",
      "Epoch 19/20\n",
      "21/21 [==============================] - 0s 9ms/step - loss: 0.2501 - accuracy: 0.9472 - val_loss: 0.2853 - val_accuracy: 0.9108\n",
      "Epoch 20/20\n",
      "21/21 [==============================] - 0s 10ms/step - loss: 0.2451 - accuracy: 0.9472 - val_loss: 0.2792 - val_accuracy: 0.9155\n"
     ]
    },
    {
     "data": {
      "image/png": "[encoded data removed]",
      "text/plain": [
       "<Figure size 576x432 with 1 Axes>"
      ]
     },
     "metadata": {
      "needs_background": "light"
     },
     "output_type": "display_data"
    },
    {
     "name": "stdout",
     "output_type": "stream",
     "text": [
      "3/3 [==============================] - 0s 5ms/step - loss: 0.2499 - accuracy: 0.9444\n"
     ]
    },
    {
     "data": {
      "text/plain": [
       "[0.24987027049064636, 0.9444444179534912]"
      ]
     },
     "execution_count": 770,
     "metadata": {},
     "output_type": "execute_result"
    }
   ],
   "source": [
    "history_3 = None\n",
    "history_3 = model_3.fit(\n",
    "    X_norm_train_3, y_train_2,\n",
    "    epochs=EPOCH_LENGTH*2,\n",
    "    batch_size=BATCH_SIZE,\n",
    "    validation_data=(X_norm_val_3, y_valid_2)\n",
    ")\n",
    "\n",
    "plot_history_performance(history=history_3)\n",
    "\n",
    "model_3.evaluate(X_norm_test_3, y_test_2)"
   ]
  },
  {
   "cell_type": "code",
   "execution_count": 784,
   "metadata": {},
   "outputs": [
    {
     "name": "stdout",
     "output_type": "stream",
     "text": [
      "INFO:tensorflow:Assets written to: trained_model\\assets\n"
     ]
    }
   ],
   "source": [
    "model_3.save(\"trained_model\", save_format=\"tf\", overwrite=True, include_optimizer=True)"
   ]
  },
  {
   "cell_type": "code",
   "execution_count": 787,
   "metadata": {},
   "outputs": [
    {
     "data": {
      "text/plain": [
       "array([1.766e+01, 6.748e+02, 4.069e-02, 1.975e+01, 2.060e-01])"
      ]
     },
     "execution_count": 787,
     "metadata": {},
     "output_type": "execute_result"
    }
   ],
   "source": [
    "X_test_3[20]"
   ]
  }
 ],
 "metadata": {
  "kernelspec": {
   "display_name": "Python 3.10.5 64-bit",
   "language": "python",
   "name": "python3"
  },
  "language_info": {
   "codemirror_mode": {
    "name": "ipython",
    "version": 3
   },
   "file_extension": ".py",
   "mimetype": "text/x-python",
   "name": "python",
   "nbconvert_exporter": "python",
   "pygments_lexer": "ipython3",
   "version": "3.10.5"
  },
  "orig_nbformat": 4,
  "vscode": {
   "interpreter": {
    "hash": "213524bb45a1aeaf737b1d8c77d7b8db5d425938d9dffc5f4bc6fe6dd3324700"
   }
  }
 },
 "nbformat": 4,
 "nbformat_minor": 2
}
