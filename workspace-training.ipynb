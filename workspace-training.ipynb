{
 "cells": [
  {
   "cell_type": "markdown",
   "metadata": {},
   "source": [
    "## Imports"
   ]
  },
  {
   "cell_type": "code",
   "execution_count": 837,
   "metadata": {},
   "outputs": [],
   "source": [
    "import pandas as pd\n",
    "import tensorflow as tf\n",
    "from tensorflow import keras\n",
    "import matplotlib.pyplot as plt\n",
    "import seaborn as sns\n",
    "from sklearn.model_selection import train_test_split\n",
    "from sklearn.preprocessing import StandardScaler\n",
    "from sklearn.metrics import accuracy_score\n",
    "from sklearn.feature_selection import SelectKBest, chi2, f_classif, RFE\n",
    "from sklearn.ensemble import RandomForestClassifier\n",
    "from imblearn.over_sampling import RandomOverSampler"
   ]
  },
  {
   "cell_type": "markdown",
   "metadata": {},
   "source": [
    "## Preparations"
   ]
  },
  {
   "cell_type": "code",
   "execution_count": 838,
   "metadata": {},
   "outputs": [
    {
     "data": {
      "text/html": [
       "<div>\n",
       "<style scoped>\n",
       "    .dataframe tbody tr th:only-of-type {\n",
       "        vertical-align: middle;\n",
       "    }\n",
       "\n",
       "    .dataframe tbody tr th {\n",
       "        vertical-align: top;\n",
       "    }\n",
       "\n",
       "    .dataframe thead th {\n",
       "        text-align: right;\n",
       "    }\n",
       "</style>\n",
       "<table border=\"1\" class=\"dataframe\">\n",
       "  <thead>\n",
       "    <tr style=\"text-align: right;\">\n",
       "      <th></th>\n",
       "      <th>id</th>\n",
       "      <th>diagnosis</th>\n",
       "      <th>radius_mean</th>\n",
       "      <th>texture_mean</th>\n",
       "      <th>perimeter_mean</th>\n",
       "      <th>area_mean</th>\n",
       "      <th>smoothness_mean</th>\n",
       "      <th>compactness_mean</th>\n",
       "      <th>concavity_mean</th>\n",
       "      <th>concave points_mean</th>\n",
       "      <th>...</th>\n",
       "      <th>texture_worst</th>\n",
       "      <th>perimeter_worst</th>\n",
       "      <th>area_worst</th>\n",
       "      <th>smoothness_worst</th>\n",
       "      <th>compactness_worst</th>\n",
       "      <th>concavity_worst</th>\n",
       "      <th>concave points_worst</th>\n",
       "      <th>symmetry_worst</th>\n",
       "      <th>fractal_dimension_worst</th>\n",
       "      <th>Unnamed: 32</th>\n",
       "    </tr>\n",
       "  </thead>\n",
       "  <tbody>\n",
       "    <tr>\n",
       "      <th>0</th>\n",
       "      <td>842302</td>\n",
       "      <td>M</td>\n",
       "      <td>17.99</td>\n",
       "      <td>10.38</td>\n",
       "      <td>122.80</td>\n",
       "      <td>1001.0</td>\n",
       "      <td>0.11840</td>\n",
       "      <td>0.27760</td>\n",
       "      <td>0.3001</td>\n",
       "      <td>0.14710</td>\n",
       "      <td>...</td>\n",
       "      <td>17.33</td>\n",
       "      <td>184.60</td>\n",
       "      <td>2019.0</td>\n",
       "      <td>0.1622</td>\n",
       "      <td>0.6656</td>\n",
       "      <td>0.7119</td>\n",
       "      <td>0.2654</td>\n",
       "      <td>0.4601</td>\n",
       "      <td>0.11890</td>\n",
       "      <td>NaN</td>\n",
       "    </tr>\n",
       "    <tr>\n",
       "      <th>1</th>\n",
       "      <td>842517</td>\n",
       "      <td>M</td>\n",
       "      <td>20.57</td>\n",
       "      <td>17.77</td>\n",
       "      <td>132.90</td>\n",
       "      <td>1326.0</td>\n",
       "      <td>0.08474</td>\n",
       "      <td>0.07864</td>\n",
       "      <td>0.0869</td>\n",
       "      <td>0.07017</td>\n",
       "      <td>...</td>\n",
       "      <td>23.41</td>\n",
       "      <td>158.80</td>\n",
       "      <td>1956.0</td>\n",
       "      <td>0.1238</td>\n",
       "      <td>0.1866</td>\n",
       "      <td>0.2416</td>\n",
       "      <td>0.1860</td>\n",
       "      <td>0.2750</td>\n",
       "      <td>0.08902</td>\n",
       "      <td>NaN</td>\n",
       "    </tr>\n",
       "    <tr>\n",
       "      <th>2</th>\n",
       "      <td>84300903</td>\n",
       "      <td>M</td>\n",
       "      <td>19.69</td>\n",
       "      <td>21.25</td>\n",
       "      <td>130.00</td>\n",
       "      <td>1203.0</td>\n",
       "      <td>0.10960</td>\n",
       "      <td>0.15990</td>\n",
       "      <td>0.1974</td>\n",
       "      <td>0.12790</td>\n",
       "      <td>...</td>\n",
       "      <td>25.53</td>\n",
       "      <td>152.50</td>\n",
       "      <td>1709.0</td>\n",
       "      <td>0.1444</td>\n",
       "      <td>0.4245</td>\n",
       "      <td>0.4504</td>\n",
       "      <td>0.2430</td>\n",
       "      <td>0.3613</td>\n",
       "      <td>0.08758</td>\n",
       "      <td>NaN</td>\n",
       "    </tr>\n",
       "    <tr>\n",
       "      <th>3</th>\n",
       "      <td>84348301</td>\n",
       "      <td>M</td>\n",
       "      <td>11.42</td>\n",
       "      <td>20.38</td>\n",
       "      <td>77.58</td>\n",
       "      <td>386.1</td>\n",
       "      <td>0.14250</td>\n",
       "      <td>0.28390</td>\n",
       "      <td>0.2414</td>\n",
       "      <td>0.10520</td>\n",
       "      <td>...</td>\n",
       "      <td>26.50</td>\n",
       "      <td>98.87</td>\n",
       "      <td>567.7</td>\n",
       "      <td>0.2098</td>\n",
       "      <td>0.8663</td>\n",
       "      <td>0.6869</td>\n",
       "      <td>0.2575</td>\n",
       "      <td>0.6638</td>\n",
       "      <td>0.17300</td>\n",
       "      <td>NaN</td>\n",
       "    </tr>\n",
       "    <tr>\n",
       "      <th>4</th>\n",
       "      <td>84358402</td>\n",
       "      <td>M</td>\n",
       "      <td>20.29</td>\n",
       "      <td>14.34</td>\n",
       "      <td>135.10</td>\n",
       "      <td>1297.0</td>\n",
       "      <td>0.10030</td>\n",
       "      <td>0.13280</td>\n",
       "      <td>0.1980</td>\n",
       "      <td>0.10430</td>\n",
       "      <td>...</td>\n",
       "      <td>16.67</td>\n",
       "      <td>152.20</td>\n",
       "      <td>1575.0</td>\n",
       "      <td>0.1374</td>\n",
       "      <td>0.2050</td>\n",
       "      <td>0.4000</td>\n",
       "      <td>0.1625</td>\n",
       "      <td>0.2364</td>\n",
       "      <td>0.07678</td>\n",
       "      <td>NaN</td>\n",
       "    </tr>\n",
       "  </tbody>\n",
       "</table>\n",
       "<p>5 rows × 33 columns</p>\n",
       "</div>"
      ],
      "text/plain": [
       "         id diagnosis  radius_mean  texture_mean  perimeter_mean  area_mean  \\\n",
       "0    842302         M        17.99         10.38          122.80     1001.0   \n",
       "1    842517         M        20.57         17.77          132.90     1326.0   \n",
       "2  84300903         M        19.69         21.25          130.00     1203.0   \n",
       "3  84348301         M        11.42         20.38           77.58      386.1   \n",
       "4  84358402         M        20.29         14.34          135.10     1297.0   \n",
       "\n",
       "   smoothness_mean  compactness_mean  concavity_mean  concave points_mean  \\\n",
       "0          0.11840           0.27760          0.3001              0.14710   \n",
       "1          0.08474           0.07864          0.0869              0.07017   \n",
       "2          0.10960           0.15990          0.1974              0.12790   \n",
       "3          0.14250           0.28390          0.2414              0.10520   \n",
       "4          0.10030           0.13280          0.1980              0.10430   \n",
       "\n",
       "   ...  texture_worst  perimeter_worst  area_worst  smoothness_worst  \\\n",
       "0  ...          17.33           184.60      2019.0            0.1622   \n",
       "1  ...          23.41           158.80      1956.0            0.1238   \n",
       "2  ...          25.53           152.50      1709.0            0.1444   \n",
       "3  ...          26.50            98.87       567.7            0.2098   \n",
       "4  ...          16.67           152.20      1575.0            0.1374   \n",
       "\n",
       "   compactness_worst  concavity_worst  concave points_worst  symmetry_worst  \\\n",
       "0             0.6656           0.7119                0.2654          0.4601   \n",
       "1             0.1866           0.2416                0.1860          0.2750   \n",
       "2             0.4245           0.4504                0.2430          0.3613   \n",
       "3             0.8663           0.6869                0.2575          0.6638   \n",
       "4             0.2050           0.4000                0.1625          0.2364   \n",
       "\n",
       "   fractal_dimension_worst  Unnamed: 32  \n",
       "0                  0.11890          NaN  \n",
       "1                  0.08902          NaN  \n",
       "2                  0.08758          NaN  \n",
       "3                  0.17300          NaN  \n",
       "4                  0.07678          NaN  \n",
       "\n",
       "[5 rows x 33 columns]"
      ]
     },
     "execution_count": 838,
     "metadata": {},
     "output_type": "execute_result"
    }
   ],
   "source": [
    "_df = pd.read_csv(\"./datasets/breast-cancer-wisconsin.csv\")\n",
    "_df.head()"
   ]
  },
  {
   "cell_type": "code",
   "execution_count": 839,
   "metadata": {},
   "outputs": [],
   "source": [
    "def get_target():\n",
    "    _y = _df.diagnosis\n",
    "    _y = pd.Series([int(x == \"B\") for x in _y])\n",
    "    return _y"
   ]
  },
  {
   "cell_type": "code",
   "execution_count": 840,
   "metadata": {},
   "outputs": [
    {
     "data": {
      "text/plain": [
       "(   radius_mean  texture_mean  perimeter_mean  area_mean  smoothness_mean  \\\n",
       " 0        17.99         10.38          122.80     1001.0          0.11840   \n",
       " 1        20.57         17.77          132.90     1326.0          0.08474   \n",
       " 2        19.69         21.25          130.00     1203.0          0.10960   \n",
       " 3        11.42         20.38           77.58      386.1          0.14250   \n",
       " 4        20.29         14.34          135.10     1297.0          0.10030   \n",
       " \n",
       "    compactness_mean  concavity_mean  concave points_mean  symmetry_mean  \\\n",
       " 0           0.27760          0.3001              0.14710         0.2419   \n",
       " 1           0.07864          0.0869              0.07017         0.1812   \n",
       " 2           0.15990          0.1974              0.12790         0.2069   \n",
       " 3           0.28390          0.2414              0.10520         0.2597   \n",
       " 4           0.13280          0.1980              0.10430         0.1809   \n",
       " \n",
       "    fractal_dimension_mean  ...  radius_worst  texture_worst  perimeter_worst  \\\n",
       " 0                 0.07871  ...         25.38          17.33           184.60   \n",
       " 1                 0.05667  ...         24.99          23.41           158.80   \n",
       " 2                 0.05999  ...         23.57          25.53           152.50   \n",
       " 3                 0.09744  ...         14.91          26.50            98.87   \n",
       " 4                 0.05883  ...         22.54          16.67           152.20   \n",
       " \n",
       "    area_worst  smoothness_worst  compactness_worst  concavity_worst  \\\n",
       " 0      2019.0            0.1622             0.6656           0.7119   \n",
       " 1      1956.0            0.1238             0.1866           0.2416   \n",
       " 2      1709.0            0.1444             0.4245           0.4504   \n",
       " 3       567.7            0.2098             0.8663           0.6869   \n",
       " 4      1575.0            0.1374             0.2050           0.4000   \n",
       " \n",
       "    concave points_worst  symmetry_worst  fractal_dimension_worst  \n",
       " 0                0.2654          0.4601                  0.11890  \n",
       " 1                0.1860          0.2750                  0.08902  \n",
       " 2                0.2430          0.3613                  0.08758  \n",
       " 3                0.2575          0.6638                  0.17300  \n",
       " 4                0.1625          0.2364                  0.07678  \n",
       " \n",
       " [5 rows x 30 columns],\n",
       " 0      0\n",
       " 1      0\n",
       " 2      0\n",
       " 3      0\n",
       " 4      0\n",
       "       ..\n",
       " 564    0\n",
       " 565    0\n",
       " 566    0\n",
       " 567    0\n",
       " 568    1\n",
       " Length: 569, dtype: int64)"
      ]
     },
     "execution_count": 840,
     "metadata": {},
     "output_type": "execute_result"
    }
   ],
   "source": [
    "y = get_target()\n",
    "x = _df.drop([\"Unnamed: 32\", \"id\", \"diagnosis\"], axis=1)\n",
    "x.head(), y"
   ]
  },
  {
   "cell_type": "code",
   "execution_count": 841,
   "metadata": {},
   "outputs": [],
   "source": [
    "def plot_history_performance(history):\n",
    "    plt.figure(figsize=(8,6))\n",
    "    plt.plot(history.history['accuracy'], color='#FFCC00', animated=True, label=\"Training Acc\")\n",
    "    plt.plot(history.history['val_accuracy'], color='green', animated=True, label=\"Validation Acc\")\n",
    "    plt.title(\"Model Accuracy\")\n",
    "    plt.ylabel(\"Accuracy\")\n",
    "    plt.xlabel(\"Epoch\")\n",
    "    plt.legend()\n",
    "    plt.show()"
   ]
  },
  {
   "cell_type": "markdown",
   "metadata": {},
   "source": [
    "## Rough ANN"
   ]
  },
  {
   "cell_type": "code",
   "execution_count": 842,
   "metadata": {},
   "outputs": [
    {
     "data": {
      "text/plain": [
       "(569, 30)"
      ]
     },
     "execution_count": 842,
     "metadata": {},
     "output_type": "execute_result"
    }
   ],
   "source": [
    "scaler = StandardScaler()\n",
    "f__x = scaler.fit_transform(x)\n",
    "f__x.shape"
   ]
  },
  {
   "cell_type": "code",
   "execution_count": 843,
   "metadata": {},
   "outputs": [
    {
     "data": {
      "text/plain": [
       "((714,), (569,))"
      ]
     },
     "execution_count": 843,
     "metadata": {},
     "output_type": "execute_result"
    }
   ],
   "source": [
    "over = RandomOverSampler()\n",
    "yy = get_target()\n",
    "f__xx, y2 = over.fit_resample(f__x, yy)\n",
    "y2.shape, y.shape"
   ]
  },
  {
   "cell_type": "code",
   "execution_count": 844,
   "metadata": {},
   "outputs": [
    {
     "data": {
      "text/plain": [
       "((569, 30), (357, 30), (267, 30), (90, 30))"
      ]
     },
     "execution_count": 844,
     "metadata": {},
     "output_type": "execute_result"
    }
   ],
   "source": [
    "X_train, X_temp, y_train, y_temp = train_test_split(f__xx, y2, test_size=.5, random_state=36)\n",
    "X_valid, X_test, y_valid, y_test = train_test_split(X_temp, y_temp, test_size=.25, random_state=43)\n",
    "x.shape, X_train.shape, X_valid.shape, X_test.shape"
   ]
  },
  {
   "cell_type": "code",
   "execution_count": 845,
   "metadata": {},
   "outputs": [],
   "source": [
    "# scaler = StandardScaler()\n",
    "# X_norm_train, X_norm_val, X_norm_test = scaler.fit_transform(X_train), scaler.transform(X_valid), scaler.transform(X_test)"
   ]
  },
  {
   "cell_type": "code",
   "execution_count": 846,
   "metadata": {},
   "outputs": [
    {
     "name": "stderr",
     "output_type": "stream",
     "text": [
      "c:\\Users\\lenovo\\AppData\\Local\\Programs\\Python\\Python310\\lib\\site-packages\\seaborn\\_decorators.py:36: FutureWarning: Pass the following variable as a keyword arg: x. From version 0.12, the only valid positional argument will be `data`, and passing other arguments without an explicit keyword will result in an error or misinterpretation.\n",
      "  warnings.warn(\n"
     ]
    },
    {
     "data": {
      "image/png": "[encoded data removed]",
      "text/plain": [
       "<Figure size 432x288 with 1 Axes>"
      ]
     },
     "metadata": {
      "needs_background": "light"
     },
     "output_type": "display_data"
    }
   ],
   "source": [
    "counts = f__xx=y2\n",
    "ax = sns.countplot(counts)"
   ]
  },
  {
   "cell_type": "markdown",
   "metadata": {},
   "source": [
    "## HYPER-PARAMS\n"
   ]
  },
  {
   "cell_type": "code",
   "execution_count": 847,
   "metadata": {},
   "outputs": [],
   "source": [
    "EPOCH_LENGTH=12\n",
    "BATCH_SIZE=16\n",
    "\n",
    "LEARN_RATE=.001\n",
    "\n",
    "DROPOUT_RATE=.2"
   ]
  },
  {
   "cell_type": "code",
   "execution_count": 848,
   "metadata": {},
   "outputs": [],
   "source": [
    "model = keras.Sequential([\n",
    "    keras.Input(shape=(30,)),\n",
    "    keras.layers.Dense(20, activation=\"relu\"),\n",
    "    keras.layers.Dropout(DROPOUT_RATE),\n",
    "    keras.layers.Dense(2, activation=\"sigmoid\")\n",
    "])\n",
    "model.compile(\n",
    "    optimizer=keras.optimizers.Adam(learning_rate=LEARN_RATE),\n",
    "    loss=keras.losses.SparseCategoricalCrossentropy(),\n",
    "    metrics=['accuracy']\n",
    ")"
   ]
  },
  {
   "cell_type": "code",
   "execution_count": 849,
   "metadata": {},
   "outputs": [
    {
     "name": "stdout",
     "output_type": "stream",
     "text": [
      "Epoch 1/12\n",
      "23/23 [==============================] - 2s 71ms/step - loss: 0.4756 - accuracy: 0.7591 - val_loss: 0.3268 - val_accuracy: 0.9064\n",
      "Epoch 2/12\n",
      "23/23 [==============================] - 0s 6ms/step - loss: 0.2960 - accuracy: 0.9132 - val_loss: 0.2440 - val_accuracy: 0.9326\n",
      "Epoch 3/12\n",
      "23/23 [==============================] - 0s 6ms/step - loss: 0.2118 - accuracy: 0.9524 - val_loss: 0.2017 - val_accuracy: 0.9438\n",
      "Epoch 4/12\n",
      "23/23 [==============================] - 0s 6ms/step - loss: 0.1694 - accuracy: 0.9664 - val_loss: 0.1763 - val_accuracy: 0.9476\n",
      "Epoch 5/12\n",
      "23/23 [==============================] - 0s 5ms/step - loss: 0.1601 - accuracy: 0.9692 - val_loss: 0.1582 - val_accuracy: 0.9588\n",
      "Epoch 6/12\n",
      "23/23 [==============================] - 0s 5ms/step - loss: 0.1275 - accuracy: 0.9692 - val_loss: 0.1437 - val_accuracy: 0.9588\n",
      "Epoch 7/12\n",
      "23/23 [==============================] - 0s 5ms/step - loss: 0.1174 - accuracy: 0.9636 - val_loss: 0.1340 - val_accuracy: 0.9625\n",
      "Epoch 8/12\n",
      "23/23 [==============================] - 0s 5ms/step - loss: 0.1125 - accuracy: 0.9748 - val_loss: 0.1263 - val_accuracy: 0.9625\n",
      "Epoch 9/12\n",
      "23/23 [==============================] - 0s 5ms/step - loss: 0.0918 - accuracy: 0.9748 - val_loss: 0.1199 - val_accuracy: 0.9663\n",
      "Epoch 10/12\n",
      "23/23 [==============================] - 0s 5ms/step - loss: 0.0881 - accuracy: 0.9776 - val_loss: 0.1152 - val_accuracy: 0.9700\n",
      "Epoch 11/12\n",
      "23/23 [==============================] - 0s 6ms/step - loss: 0.0869 - accuracy: 0.9804 - val_loss: 0.1107 - val_accuracy: 0.9700\n",
      "Epoch 12/12\n",
      "23/23 [==============================] - 0s 6ms/step - loss: 0.0811 - accuracy: 0.9776 - val_loss: 0.1073 - val_accuracy: 0.9700\n"
     ]
    },
    {
     "data": {
      "image/png": "[encoded data removed]",
      "text/plain": [
       "<Figure size 576x432 with 1 Axes>"
      ]
     },
     "metadata": {
      "needs_background": "light"
     },
     "output_type": "display_data"
    },
    {
     "name": "stdout",
     "output_type": "stream",
     "text": [
      "3/3 [==============================] - 0s 5ms/step - loss: 0.0683 - accuracy: 0.9889\n"
     ]
    },
    {
     "data": {
      "text/plain": [
       "[0.06827747076749802, 0.9888888597488403]"
      ]
     },
     "execution_count": 849,
     "metadata": {},
     "output_type": "execute_result"
    }
   ],
   "source": [
    "history = None\n",
    "history = model.fit(\n",
    "    X_train, y_train,\n",
    "    epochs=EPOCH_LENGTH,\n",
    "    batch_size=BATCH_SIZE,\n",
    "    validation_data=(X_valid, y_valid)\n",
    ")\n",
    "\n",
    "plot_history_performance(history=history)\n",
    "\n",
    "model.evaluate(X_test, y_test)"
   ]
  },
  {
   "cell_type": "markdown",
   "metadata": {},
   "source": [
    "## Correlated Features Dropped"
   ]
  },
  {
   "cell_type": "code",
   "execution_count": 850,
   "metadata": {},
   "outputs": [],
   "source": [
    "cols_to_drop=['perimeter_mean','radius_mean','compactness_mean','concave points_mean','radius_se','perimeter_se','radius_worst','perimeter_worst','compactness_worst','concave points_worst','compactness_se','concave points_se','texture_worst','area_worst']\n",
    "x_2 = x.drop(cols_to_drop, axis=1)"
   ]
  },
  {
   "cell_type": "code",
   "execution_count": 851,
   "metadata": {},
   "outputs": [
    {
     "data": {
      "text/plain": [
       "((569, 16), (357, 16), (267, 16), (90, 16))"
      ]
     },
     "execution_count": 851,
     "metadata": {},
     "output_type": "execute_result"
    }
   ],
   "source": [
    "scaler = StandardScaler()\n",
    "_x_2 = scaler.fit_transform(x_2)\n",
    "\n",
    "over = RandomOverSampler()\n",
    "yy = get_target()\n",
    "__x_2, y = over.fit_resample(_x_2, yy)\n",
    "\n",
    "X_train_2, X_temp_2, y_train_2, y_temp_2 = train_test_split(__x_2, y, test_size=.5, random_state=36)\n",
    "X_valid_2, X_test_2, y_valid_2, y_test_2 = train_test_split(X_temp_2, y_temp_2, test_size=.25, random_state=43)\n",
    "x_2.shape, X_train_2.shape, X_valid_2.shape, X_test_2.shape"
   ]
  },
  {
   "cell_type": "code",
   "execution_count": 852,
   "metadata": {},
   "outputs": [],
   "source": [
    "scaler = StandardScaler()\n",
    "X_norm_train_2, X_norm_val_2, X_norm_test_2 = scaler.fit_transform(X_train_2), scaler.transform(X_valid_2), scaler.transform(X_test_2)"
   ]
  },
  {
   "cell_type": "code",
   "execution_count": 853,
   "metadata": {},
   "outputs": [],
   "source": [
    "model_2 = keras.Sequential([\n",
    "    keras.Input(shape=(16,)),\n",
    "    keras.layers.Dense(20, activation=\"relu\"),\n",
    "    keras.layers.Dropout(DROPOUT_RATE**2),\n",
    "    keras.layers.Dense(2, activation=\"sigmoid\")\n",
    "])\n",
    "model_2.compile(\n",
    "    optimizer=keras.optimizers.Adam(learning_rate=LEARN_RATE),\n",
    "    loss=keras.losses.SparseCategoricalCrossentropy(),\n",
    "    metrics=['accuracy']\n",
    ")"
   ]
  },
  {
   "cell_type": "code",
   "execution_count": 854,
   "metadata": {},
   "outputs": [
    {
     "name": "stdout",
     "output_type": "stream",
     "text": [
      "Epoch 1/24\n",
      "23/23 [==============================] - 1s 17ms/step - loss: 1.1372 - accuracy: 0.2353 - val_loss: 0.9107 - val_accuracy: 0.3783\n",
      "Epoch 2/24\n",
      "23/23 [==============================] - 0s 9ms/step - loss: 0.8751 - accuracy: 0.4146 - val_loss: 0.7252 - val_accuracy: 0.5318\n",
      "Epoch 3/24\n",
      "23/23 [==============================] - 0s 5ms/step - loss: 0.6840 - accuracy: 0.6078 - val_loss: 0.6056 - val_accuracy: 0.6891\n",
      "Epoch 4/24\n",
      "23/23 [==============================] - 0s 5ms/step - loss: 0.5721 - accuracy: 0.7367 - val_loss: 0.5138 - val_accuracy: 0.7865\n",
      "Epoch 5/24\n",
      "23/23 [==============================] - 0s 5ms/step - loss: 0.4734 - accuracy: 0.8291 - val_loss: 0.4470 - val_accuracy: 0.8352\n",
      "Epoch 6/24\n",
      "23/23 [==============================] - 0s 5ms/step - loss: 0.4218 - accuracy: 0.8543 - val_loss: 0.3928 - val_accuracy: 0.8689\n",
      "Epoch 7/24\n",
      "23/23 [==============================] - 0s 5ms/step - loss: 0.3648 - accuracy: 0.8908 - val_loss: 0.3498 - val_accuracy: 0.9064\n",
      "Epoch 8/24\n",
      "23/23 [==============================] - 0s 5ms/step - loss: 0.3192 - accuracy: 0.9020 - val_loss: 0.3140 - val_accuracy: 0.9139\n",
      "Epoch 9/24\n",
      "23/23 [==============================] - 0s 6ms/step - loss: 0.2891 - accuracy: 0.9104 - val_loss: 0.2845 - val_accuracy: 0.9139\n",
      "Epoch 10/24\n",
      "23/23 [==============================] - 0s 13ms/step - loss: 0.2604 - accuracy: 0.9160 - val_loss: 0.2580 - val_accuracy: 0.9139\n",
      "Epoch 11/24\n",
      "23/23 [==============================] - 0s 9ms/step - loss: 0.2331 - accuracy: 0.9132 - val_loss: 0.2361 - val_accuracy: 0.9176\n",
      "Epoch 12/24\n",
      "23/23 [==============================] - 0s 6ms/step - loss: 0.2049 - accuracy: 0.9356 - val_loss: 0.2143 - val_accuracy: 0.9176\n",
      "Epoch 13/24\n",
      "23/23 [==============================] - 0s 5ms/step - loss: 0.1876 - accuracy: 0.9440 - val_loss: 0.1987 - val_accuracy: 0.9251\n",
      "Epoch 14/24\n",
      "23/23 [==============================] - 0s 5ms/step - loss: 0.1696 - accuracy: 0.9524 - val_loss: 0.1858 - val_accuracy: 0.9251\n",
      "Epoch 15/24\n",
      "23/23 [==============================] - 0s 5ms/step - loss: 0.1553 - accuracy: 0.9580 - val_loss: 0.1739 - val_accuracy: 0.9251\n",
      "Epoch 16/24\n",
      "23/23 [==============================] - 0s 5ms/step - loss: 0.1424 - accuracy: 0.9608 - val_loss: 0.1636 - val_accuracy: 0.9363\n",
      "Epoch 17/24\n",
      "23/23 [==============================] - 0s 5ms/step - loss: 0.1308 - accuracy: 0.9664 - val_loss: 0.1556 - val_accuracy: 0.9476\n",
      "Epoch 18/24\n",
      "23/23 [==============================] - 0s 5ms/step - loss: 0.1319 - accuracy: 0.9664 - val_loss: 0.1472 - val_accuracy: 0.9551\n",
      "Epoch 19/24\n",
      "23/23 [==============================] - 0s 6ms/step - loss: 0.1091 - accuracy: 0.9748 - val_loss: 0.1413 - val_accuracy: 0.9625\n",
      "Epoch 20/24\n",
      "23/23 [==============================] - 0s 5ms/step - loss: 0.1040 - accuracy: 0.9776 - val_loss: 0.1367 - val_accuracy: 0.9663\n",
      "Epoch 21/24\n",
      "23/23 [==============================] - 0s 5ms/step - loss: 0.0980 - accuracy: 0.9720 - val_loss: 0.1330 - val_accuracy: 0.9663\n",
      "Epoch 22/24\n",
      "23/23 [==============================] - 0s 5ms/step - loss: 0.0982 - accuracy: 0.9748 - val_loss: 0.1293 - val_accuracy: 0.9663\n",
      "Epoch 23/24\n",
      "23/23 [==============================] - 0s 6ms/step - loss: 0.0894 - accuracy: 0.9804 - val_loss: 0.1259 - val_accuracy: 0.9663\n",
      "Epoch 24/24\n",
      "23/23 [==============================] - 0s 7ms/step - loss: 0.0844 - accuracy: 0.9860 - val_loss: 0.1236 - val_accuracy: 0.9663\n"
     ]
    },
    {
     "data": {
      "image/png": "[encoded data removed]",
      "text/plain": [
       "<Figure size 576x432 with 1 Axes>"
      ]
     },
     "metadata": {
      "needs_background": "light"
     },
     "output_type": "display_data"
    },
    {
     "name": "stdout",
     "output_type": "stream",
     "text": [
      "3/3 [==============================] - 0s 2ms/step - loss: 0.0762 - accuracy: 0.9667\n"
     ]
    },
    {
     "data": {
      "text/plain": [
       "[0.07623106241226196, 0.9666666388511658]"
      ]
     },
     "execution_count": 854,
     "metadata": {},
     "output_type": "execute_result"
    }
   ],
   "source": [
    "history_2 = None\n",
    "history_2 = model_2.fit(\n",
    "    X_norm_train_2, y_train_2,\n",
    "    epochs=EPOCH_LENGTH*2,\n",
    "    batch_size=BATCH_SIZE,\n",
    "    validation_data=(X_norm_val_2, y_valid_2)\n",
    ")\n",
    "\n",
    "plot_history_performance(history=history_2)\n",
    "\n",
    "model_2.evaluate(X_norm_test_2, y_test_2)"
   ]
  },
  {
   "cell_type": "markdown",
   "metadata": {},
   "source": [
    "## Feature Ranking and Selection"
   ]
  },
  {
   "cell_type": "code",
   "execution_count": 855,
   "metadata": {},
   "outputs": [
    {
     "data": {
      "text/html": [
       "<div>\n",
       "<style scoped>\n",
       "    .dataframe tbody tr th:only-of-type {\n",
       "        vertical-align: middle;\n",
       "    }\n",
       "\n",
       "    .dataframe tbody tr th {\n",
       "        vertical-align: top;\n",
       "    }\n",
       "\n",
       "    .dataframe thead th {\n",
       "        text-align: right;\n",
       "    }\n",
       "</style>\n",
       "<table border=\"1\" class=\"dataframe\">\n",
       "  <thead>\n",
       "    <tr style=\"text-align: right;\">\n",
       "      <th></th>\n",
       "      <th>feature</th>\n",
       "      <th>score</th>\n",
       "    </tr>\n",
       "  </thead>\n",
       "  <tbody>\n",
       "    <tr>\n",
       "      <th>0</th>\n",
       "      <td>area_mean</td>\n",
       "      <td>53991.655924</td>\n",
       "    </tr>\n",
       "    <tr>\n",
       "      <th>1</th>\n",
       "      <td>area_se</td>\n",
       "      <td>8758.504705</td>\n",
       "    </tr>\n",
       "    <tr>\n",
       "      <th>2</th>\n",
       "      <td>texture_mean</td>\n",
       "      <td>93.897508</td>\n",
       "    </tr>\n",
       "    <tr>\n",
       "      <th>3</th>\n",
       "      <td>concavity_worst</td>\n",
       "      <td>39.516915</td>\n",
       "    </tr>\n",
       "    <tr>\n",
       "      <th>4</th>\n",
       "      <td>concavity_mean</td>\n",
       "      <td>19.712354</td>\n",
       "    </tr>\n",
       "    <tr>\n",
       "      <th>5</th>\n",
       "      <td>symmetry_worst</td>\n",
       "      <td>1.298861</td>\n",
       "    </tr>\n",
       "    <tr>\n",
       "      <th>6</th>\n",
       "      <td>concavity_se</td>\n",
       "      <td>1.044718</td>\n",
       "    </tr>\n",
       "    <tr>\n",
       "      <th>7</th>\n",
       "      <td>smoothness_worst</td>\n",
       "      <td>0.397366</td>\n",
       "    </tr>\n",
       "    <tr>\n",
       "      <th>8</th>\n",
       "      <td>symmetry_mean</td>\n",
       "      <td>0.257380</td>\n",
       "    </tr>\n",
       "    <tr>\n",
       "      <th>9</th>\n",
       "      <td>fractal_dimension_worst</td>\n",
       "      <td>0.231522</td>\n",
       "    </tr>\n",
       "    <tr>\n",
       "      <th>10</th>\n",
       "      <td>smoothness_mean</td>\n",
       "      <td>0.149899</td>\n",
       "    </tr>\n",
       "    <tr>\n",
       "      <th>11</th>\n",
       "      <td>texture_se</td>\n",
       "      <td>0.009794</td>\n",
       "    </tr>\n",
       "    <tr>\n",
       "      <th>12</th>\n",
       "      <td>fractal_dimension_se</td>\n",
       "      <td>0.006371</td>\n",
       "    </tr>\n",
       "    <tr>\n",
       "      <th>13</th>\n",
       "      <td>smoothness_se</td>\n",
       "      <td>0.003266</td>\n",
       "    </tr>\n",
       "    <tr>\n",
       "      <th>14</th>\n",
       "      <td>symmetry_se</td>\n",
       "      <td>0.000080</td>\n",
       "    </tr>\n",
       "    <tr>\n",
       "      <th>15</th>\n",
       "      <td>fractal_dimension_mean</td>\n",
       "      <td>0.000074</td>\n",
       "    </tr>\n",
       "  </tbody>\n",
       "</table>\n",
       "</div>"
      ],
      "text/plain": [
       "                    feature         score\n",
       "0                 area_mean  53991.655924\n",
       "1                   area_se   8758.504705\n",
       "2              texture_mean     93.897508\n",
       "3           concavity_worst     39.516915\n",
       "4            concavity_mean     19.712354\n",
       "5            symmetry_worst      1.298861\n",
       "6              concavity_se      1.044718\n",
       "7          smoothness_worst      0.397366\n",
       "8             symmetry_mean      0.257380\n",
       "9   fractal_dimension_worst      0.231522\n",
       "10          smoothness_mean      0.149899\n",
       "11               texture_se      0.009794\n",
       "12     fractal_dimension_se      0.006371\n",
       "13            smoothness_se      0.003266\n",
       "14              symmetry_se      0.000080\n",
       "15   fractal_dimension_mean      0.000074"
      ]
     },
     "execution_count": 855,
     "metadata": {},
     "output_type": "execute_result"
    }
   ],
   "source": [
    "yyy = get_target()\n",
    "K=5\n",
    "select_feature = SelectKBest(chi2, k=K).fit(x_2, yyy)\n",
    "\n",
    "__df = pd.DataFrame(dict(feature=x_2.columns, score=select_feature.scores_), index=None).sort_values(by=\"score\", ascending=False, kind=\"stable\", ignore_index=True)\n",
    "__df"
   ]
  },
  {
   "cell_type": "code",
   "execution_count": 856,
   "metadata": {},
   "outputs": [
    {
     "name": "stderr",
     "output_type": "stream",
     "text": [
      "c:\\Users\\lenovo\\AppData\\Local\\Programs\\Python\\Python310\\lib\\site-packages\\sklearn\\base.py:450: UserWarning: X does not have valid feature names, but SelectKBest was fitted with feature names\n",
      "  warnings.warn(\n",
      "c:\\Users\\lenovo\\AppData\\Local\\Programs\\Python\\Python310\\lib\\site-packages\\sklearn\\base.py:450: UserWarning: X does not have valid feature names, but SelectKBest was fitted with feature names\n",
      "  warnings.warn(\n",
      "c:\\Users\\lenovo\\AppData\\Local\\Programs\\Python\\Python310\\lib\\site-packages\\sklearn\\base.py:450: UserWarning: X does not have valid feature names, but SelectKBest was fitted with feature names\n",
      "  warnings.warn(\n"
     ]
    }
   ],
   "source": [
    "X_train_3 = select_feature.transform(X_train_2)\n",
    "X_valid_3 = select_feature.transform(X_valid_2)\n",
    "X_test_3 = select_feature.transform(X_test_2)"
   ]
  },
  {
   "cell_type": "code",
   "execution_count": 857,
   "metadata": {},
   "outputs": [],
   "source": [
    "scaler = StandardScaler()\n",
    "X_norm_train_3, X_norm_val_3, X_norm_test_3 = scaler.fit_transform(X_train_3), scaler.transform(X_valid_3), scaler.transform(X_test_3)"
   ]
  },
  {
   "cell_type": "code",
   "execution_count": 858,
   "metadata": {},
   "outputs": [],
   "source": [
    "model_3 = keras.Sequential([\n",
    "    keras.Input(shape=(K,)),\n",
    "    keras.layers.Dense(12, activation=\"relu\"),\n",
    "    keras.layers.Dropout(DROPOUT_RATE**2),\n",
    "    keras.layers.Dense(6, activation=\"relu\"),\n",
    "    keras.layers.Dense(4, activation=\"sigmoid\"),\n",
    "    keras.layers.Dense(2, activation=\"sigmoid\")\n",
    "])\n",
    "model_3.compile(\n",
    "    optimizer=keras.optimizers.Adam(learning_rate=LEARN_RATE),\n",
    "    loss=keras.losses.SparseCategoricalCrossentropy(),\n",
    "    metrics=['accuracy']\n",
    ")"
   ]
  },
  {
   "cell_type": "code",
   "execution_count": 859,
   "metadata": {},
   "outputs": [
    {
     "name": "stdout",
     "output_type": "stream",
     "text": [
      "Epoch 1/24\n",
      "23/23 [==============================] - 1s 17ms/step - loss: 0.7154 - accuracy: 0.4594 - val_loss: 0.6818 - val_accuracy: 0.5281\n",
      "Epoch 2/24\n",
      "23/23 [==============================] - 0s 6ms/step - loss: 0.6888 - accuracy: 0.4594 - val_loss: 0.6601 - val_accuracy: 0.5281\n",
      "Epoch 3/24\n",
      "23/23 [==============================] - 0s 6ms/step - loss: 0.6650 - accuracy: 0.4594 - val_loss: 0.6395 - val_accuracy: 0.7566\n",
      "Epoch 4/24\n",
      "23/23 [==============================] - 0s 5ms/step - loss: 0.6415 - accuracy: 0.7871 - val_loss: 0.6158 - val_accuracy: 0.8839\n",
      "Epoch 5/24\n",
      "23/23 [==============================] - 0s 5ms/step - loss: 0.6155 - accuracy: 0.8992 - val_loss: 0.5904 - val_accuracy: 0.8914\n",
      "Epoch 6/24\n",
      "23/23 [==============================] - 0s 5ms/step - loss: 0.5923 - accuracy: 0.9188 - val_loss: 0.5644 - val_accuracy: 0.8876\n",
      "Epoch 7/24\n",
      "23/23 [==============================] - 0s 5ms/step - loss: 0.5612 - accuracy: 0.9216 - val_loss: 0.5401 - val_accuracy: 0.8876\n",
      "Epoch 8/24\n",
      "23/23 [==============================] - 0s 5ms/step - loss: 0.5374 - accuracy: 0.9160 - val_loss: 0.5177 - val_accuracy: 0.8839\n",
      "Epoch 9/24\n",
      "23/23 [==============================] - 0s 5ms/step - loss: 0.5118 - accuracy: 0.9216 - val_loss: 0.4969 - val_accuracy: 0.8876\n",
      "Epoch 10/24\n",
      "23/23 [==============================] - 0s 5ms/step - loss: 0.4888 - accuracy: 0.9216 - val_loss: 0.4784 - val_accuracy: 0.8914\n",
      "Epoch 11/24\n",
      "23/23 [==============================] - 0s 5ms/step - loss: 0.4647 - accuracy: 0.9384 - val_loss: 0.4605 - val_accuracy: 0.9026\n",
      "Epoch 12/24\n",
      "23/23 [==============================] - 0s 5ms/step - loss: 0.4425 - accuracy: 0.9356 - val_loss: 0.4402 - val_accuracy: 0.9064\n",
      "Epoch 13/24\n",
      "23/23 [==============================] - 0s 5ms/step - loss: 0.4136 - accuracy: 0.9356 - val_loss: 0.4099 - val_accuracy: 0.9101\n",
      "Epoch 14/24\n",
      "23/23 [==============================] - 0s 5ms/step - loss: 0.3773 - accuracy: 0.9412 - val_loss: 0.3816 - val_accuracy: 0.9139\n",
      "Epoch 15/24\n",
      "23/23 [==============================] - 0s 5ms/step - loss: 0.3455 - accuracy: 0.9440 - val_loss: 0.3597 - val_accuracy: 0.9139\n",
      "Epoch 16/24\n",
      "23/23 [==============================] - 0s 5ms/step - loss: 0.3244 - accuracy: 0.9384 - val_loss: 0.3429 - val_accuracy: 0.9139\n",
      "Epoch 17/24\n",
      "23/23 [==============================] - 0s 5ms/step - loss: 0.3044 - accuracy: 0.9468 - val_loss: 0.3291 - val_accuracy: 0.9176\n",
      "Epoch 18/24\n",
      "23/23 [==============================] - 0s 5ms/step - loss: 0.2908 - accuracy: 0.9440 - val_loss: 0.3172 - val_accuracy: 0.9176\n",
      "Epoch 19/24\n",
      "23/23 [==============================] - 0s 5ms/step - loss: 0.2787 - accuracy: 0.9440 - val_loss: 0.3067 - val_accuracy: 0.9176\n",
      "Epoch 20/24\n",
      "23/23 [==============================] - 0s 5ms/step - loss: 0.2626 - accuracy: 0.9468 - val_loss: 0.2975 - val_accuracy: 0.9176\n",
      "Epoch 21/24\n",
      "23/23 [==============================] - 0s 5ms/step - loss: 0.2537 - accuracy: 0.9496 - val_loss: 0.2891 - val_accuracy: 0.9139\n",
      "Epoch 22/24\n",
      "23/23 [==============================] - 0s 5ms/step - loss: 0.2456 - accuracy: 0.9496 - val_loss: 0.2814 - val_accuracy: 0.9213\n",
      "Epoch 23/24\n",
      "23/23 [==============================] - 0s 6ms/step - loss: 0.2399 - accuracy: 0.9524 - val_loss: 0.2747 - val_accuracy: 0.9251\n",
      "Epoch 24/24\n",
      "23/23 [==============================] - 0s 5ms/step - loss: 0.2292 - accuracy: 0.9608 - val_loss: 0.2680 - val_accuracy: 0.9288\n"
     ]
    },
    {
     "data": {
      "image/png": "[encoded data removed]",
      "text/plain": [
       "<Figure size 576x432 with 1 Axes>"
      ]
     },
     "metadata": {
      "needs_background": "light"
     },
     "output_type": "display_data"
    },
    {
     "name": "stdout",
     "output_type": "stream",
     "text": [
      "3/3 [==============================] - 0s 3ms/step - loss: 0.2237 - accuracy: 0.9667\n",
      "Epoch 1/24\n",
      "12/12 [==============================] - 1s 26ms/step - loss: 0.6832 - accuracy: 0.5154 - val_loss: 0.6845 - val_accuracy: 0.4607\n",
      "Epoch 2/24\n",
      "12/12 [==============================] - 0s 7ms/step - loss: 0.6689 - accuracy: 0.5938 - val_loss: 0.6675 - val_accuracy: 0.6330\n",
      "Epoch 3/24\n",
      "12/12 [==============================] - 0s 7ms/step - loss: 0.6547 - accuracy: 0.7227 - val_loss: 0.6513 - val_accuracy: 0.7865\n",
      "Epoch 4/24\n",
      "12/12 [==============================] - 0s 7ms/step - loss: 0.6393 - accuracy: 0.7955 - val_loss: 0.6354 - val_accuracy: 0.8277\n",
      "Epoch 5/24\n",
      "12/12 [==============================] - 0s 7ms/step - loss: 0.6236 - accuracy: 0.8487 - val_loss: 0.6179 - val_accuracy: 0.8839\n",
      "Epoch 6/24\n",
      "12/12 [==============================] - 0s 7ms/step - loss: 0.6072 - accuracy: 0.8936 - val_loss: 0.6011 - val_accuracy: 0.8839\n",
      "Epoch 7/24\n",
      "12/12 [==============================] - 0s 7ms/step - loss: 0.5927 - accuracy: 0.9216 - val_loss: 0.5838 - val_accuracy: 0.8989\n",
      "Epoch 8/24\n",
      "12/12 [==============================] - 0s 7ms/step - loss: 0.5778 - accuracy: 0.9440 - val_loss: 0.5671 - val_accuracy: 0.9101\n",
      "Epoch 9/24\n",
      "12/12 [==============================] - 0s 7ms/step - loss: 0.5620 - accuracy: 0.9440 - val_loss: 0.5517 - val_accuracy: 0.9213\n",
      "Epoch 10/24\n",
      "12/12 [==============================] - 0s 7ms/step - loss: 0.5449 - accuracy: 0.9524 - val_loss: 0.5370 - val_accuracy: 0.9213\n",
      "Epoch 11/24\n",
      "12/12 [==============================] - 0s 7ms/step - loss: 0.5304 - accuracy: 0.9468 - val_loss: 0.5234 - val_accuracy: 0.9213\n",
      "Epoch 12/24\n",
      "12/12 [==============================] - 0s 7ms/step - loss: 0.5164 - accuracy: 0.9468 - val_loss: 0.5118 - val_accuracy: 0.9251\n",
      "Epoch 13/24\n",
      "12/12 [==============================] - 0s 7ms/step - loss: 0.5035 - accuracy: 0.9440 - val_loss: 0.4998 - val_accuracy: 0.9251\n",
      "Epoch 14/24\n",
      "12/12 [==============================] - 0s 7ms/step - loss: 0.4904 - accuracy: 0.9384 - val_loss: 0.4869 - val_accuracy: 0.9139\n",
      "Epoch 15/24\n",
      "12/12 [==============================] - 0s 7ms/step - loss: 0.4751 - accuracy: 0.9412 - val_loss: 0.4745 - val_accuracy: 0.9101\n",
      "Epoch 16/24\n",
      "12/12 [==============================] - 0s 7ms/step - loss: 0.4610 - accuracy: 0.9412 - val_loss: 0.4615 - val_accuracy: 0.9139\n",
      "Epoch 17/24\n",
      "12/12 [==============================] - 0s 7ms/step - loss: 0.4478 - accuracy: 0.9384 - val_loss: 0.4486 - val_accuracy: 0.9101\n",
      "Epoch 18/24\n",
      "12/12 [==============================] - 0s 7ms/step - loss: 0.4327 - accuracy: 0.9468 - val_loss: 0.4355 - val_accuracy: 0.9064\n",
      "Epoch 19/24\n",
      "12/12 [==============================] - 0s 7ms/step - loss: 0.4191 - accuracy: 0.9384 - val_loss: 0.4226 - val_accuracy: 0.9064\n",
      "Epoch 20/24\n",
      "12/12 [==============================] - 0s 7ms/step - loss: 0.4088 - accuracy: 0.9300 - val_loss: 0.4103 - val_accuracy: 0.9064\n",
      "Epoch 21/24\n",
      "12/12 [==============================] - 0s 7ms/step - loss: 0.3896 - accuracy: 0.9412 - val_loss: 0.3985 - val_accuracy: 0.9064\n",
      "Epoch 22/24\n",
      "12/12 [==============================] - 0s 7ms/step - loss: 0.3793 - accuracy: 0.9384 - val_loss: 0.3870 - val_accuracy: 0.9101\n",
      "Epoch 23/24\n",
      "12/12 [==============================] - 0s 7ms/step - loss: 0.3616 - accuracy: 0.9412 - val_loss: 0.3752 - val_accuracy: 0.9101\n",
      "Epoch 24/24\n",
      "12/12 [==============================] - 0s 7ms/step - loss: 0.3500 - accuracy: 0.9468 - val_loss: 0.3644 - val_accuracy: 0.9176\n"
     ]
    },
    {
     "data": {
      "image/png": "[encoded data removed]",
      "text/plain": [
       "<Figure size 576x432 with 1 Axes>"
      ]
     },
     "metadata": {
      "needs_background": "light"
     },
     "output_type": "display_data"
    },
    {
     "name": "stdout",
     "output_type": "stream",
     "text": [
      "3/3 [==============================] - 0s 3ms/step - loss: 0.3307 - accuracy: 0.9556\n",
      "Epoch 1/24\n",
      "8/8 [==============================] - 1s 39ms/step - loss: 0.6770 - accuracy: 0.5406 - val_loss: 0.6887 - val_accuracy: 0.4719\n",
      "Epoch 2/24\n",
      "8/8 [==============================] - 0s 9ms/step - loss: 0.6669 - accuracy: 0.5406 - val_loss: 0.6782 - val_accuracy: 0.4719\n",
      "Epoch 3/24\n",
      "8/8 [==============================] - 0s 9ms/step - loss: 0.6606 - accuracy: 0.5406 - val_loss: 0.6690 - val_accuracy: 0.4719\n",
      "Epoch 4/24\n",
      "8/8 [==============================] - 0s 9ms/step - loss: 0.6528 - accuracy: 0.5406 - val_loss: 0.6611 - val_accuracy: 0.4719\n",
      "Epoch 5/24\n",
      "8/8 [==============================] - 0s 9ms/step - loss: 0.6451 - accuracy: 0.5406 - val_loss: 0.6535 - val_accuracy: 0.4719\n",
      "Epoch 6/24\n",
      "8/8 [==============================] - 0s 9ms/step - loss: 0.6381 - accuracy: 0.5406 - val_loss: 0.6456 - val_accuracy: 0.4719\n",
      "Epoch 7/24\n",
      "8/8 [==============================] - 0s 9ms/step - loss: 0.6302 - accuracy: 0.5406 - val_loss: 0.6367 - val_accuracy: 0.4719\n",
      "Epoch 8/24\n",
      "8/8 [==============================] - 0s 9ms/step - loss: 0.6200 - accuracy: 0.5406 - val_loss: 0.6263 - val_accuracy: 0.4719\n",
      "Epoch 9/24\n",
      "8/8 [==============================] - 0s 9ms/step - loss: 0.6107 - accuracy: 0.5630 - val_loss: 0.6153 - val_accuracy: 0.5843\n",
      "Epoch 10/24\n",
      "8/8 [==============================] - 0s 9ms/step - loss: 0.5981 - accuracy: 0.7395 - val_loss: 0.6038 - val_accuracy: 0.8727\n",
      "Epoch 11/24\n",
      "8/8 [==============================] - 0s 9ms/step - loss: 0.5886 - accuracy: 0.8487 - val_loss: 0.5912 - val_accuracy: 0.8839\n",
      "Epoch 12/24\n",
      "8/8 [==============================] - 0s 9ms/step - loss: 0.5734 - accuracy: 0.8824 - val_loss: 0.5776 - val_accuracy: 0.8876\n",
      "Epoch 13/24\n",
      "8/8 [==============================] - 0s 9ms/step - loss: 0.5593 - accuracy: 0.8964 - val_loss: 0.5632 - val_accuracy: 0.9064\n",
      "Epoch 14/24\n",
      "8/8 [==============================] - 0s 8ms/step - loss: 0.5442 - accuracy: 0.9160 - val_loss: 0.5486 - val_accuracy: 0.9064\n",
      "Epoch 15/24\n",
      "8/8 [==============================] - 0s 8ms/step - loss: 0.5271 - accuracy: 0.9244 - val_loss: 0.5333 - val_accuracy: 0.9064\n",
      "Epoch 16/24\n",
      "8/8 [==============================] - 0s 8ms/step - loss: 0.5129 - accuracy: 0.9216 - val_loss: 0.5177 - val_accuracy: 0.9064\n",
      "Epoch 17/24\n",
      "8/8 [==============================] - 0s 9ms/step - loss: 0.4962 - accuracy: 0.9216 - val_loss: 0.5014 - val_accuracy: 0.9064\n",
      "Epoch 18/24\n",
      "8/8 [==============================] - 0s 8ms/step - loss: 0.4814 - accuracy: 0.9188 - val_loss: 0.4855 - val_accuracy: 0.9064\n",
      "Epoch 19/24\n",
      "8/8 [==============================] - 0s 9ms/step - loss: 0.4618 - accuracy: 0.9272 - val_loss: 0.4700 - val_accuracy: 0.9139\n",
      "Epoch 20/24\n",
      "8/8 [==============================] - 0s 8ms/step - loss: 0.4492 - accuracy: 0.9216 - val_loss: 0.4548 - val_accuracy: 0.9101\n",
      "Epoch 21/24\n",
      "8/8 [==============================] - 0s 8ms/step - loss: 0.4343 - accuracy: 0.9244 - val_loss: 0.4400 - val_accuracy: 0.9101\n",
      "Epoch 22/24\n",
      "8/8 [==============================] - 0s 8ms/step - loss: 0.4180 - accuracy: 0.9188 - val_loss: 0.4264 - val_accuracy: 0.9101\n",
      "Epoch 23/24\n",
      "8/8 [==============================] - 0s 9ms/step - loss: 0.4040 - accuracy: 0.9272 - val_loss: 0.4129 - val_accuracy: 0.9026\n",
      "Epoch 24/24\n",
      "8/8 [==============================] - 0s 8ms/step - loss: 0.3916 - accuracy: 0.9188 - val_loss: 0.4003 - val_accuracy: 0.9026\n"
     ]
    },
    {
     "data": {
      "image/png": "[encoded data removed]",
      "text/plain": [
       "<Figure size 576x432 with 1 Axes>"
      ]
     },
     "metadata": {
      "needs_background": "light"
     },
     "output_type": "display_data"
    },
    {
     "name": "stdout",
     "output_type": "stream",
     "text": [
      "3/3 [==============================] - 0s 5ms/step - loss: 0.3680 - accuracy: 0.9444\n"
     ]
    },
    {
     "data": {
      "text/html": [
       "<div>\n",
       "<style scoped>\n",
       "    .dataframe tbody tr th:only-of-type {\n",
       "        vertical-align: middle;\n",
       "    }\n",
       "\n",
       "    .dataframe tbody tr th {\n",
       "        vertical-align: top;\n",
       "    }\n",
       "\n",
       "    .dataframe thead th {\n",
       "        text-align: right;\n",
       "    }\n",
       "</style>\n",
       "<table border=\"1\" class=\"dataframe\">\n",
       "  <thead>\n",
       "    <tr style=\"text-align: right;\">\n",
       "      <th></th>\n",
       "      <th>batch_no</th>\n",
       "      <th>pred</th>\n",
       "      <th>acc</th>\n",
       "    </tr>\n",
       "  </thead>\n",
       "  <tbody>\n",
       "    <tr>\n",
       "      <th>0</th>\n",
       "      <td>16</td>\n",
       "      <td>0.223690</td>\n",
       "      <td>0.966667</td>\n",
       "    </tr>\n",
       "    <tr>\n",
       "      <th>1</th>\n",
       "      <td>32</td>\n",
       "      <td>0.330749</td>\n",
       "      <td>0.955556</td>\n",
       "    </tr>\n",
       "    <tr>\n",
       "      <th>2</th>\n",
       "      <td>48</td>\n",
       "      <td>0.367979</td>\n",
       "      <td>0.944444</td>\n",
       "    </tr>\n",
       "  </tbody>\n",
       "</table>\n",
       "</div>"
      ],
      "text/plain": [
       "   batch_no      pred       acc\n",
       "0        16  0.223690  0.966667\n",
       "1        32  0.330749  0.955556\n",
       "2        48  0.367979  0.944444"
      ]
     },
     "execution_count": 859,
     "metadata": {},
     "output_type": "execute_result"
    }
   ],
   "source": [
    "import numpy as np\n",
    "\n",
    "preds = []\n",
    "for x in np.arange(1, 4)*BATCH_SIZE:\n",
    "    model_3 = None\n",
    "    history_3 = None\n",
    "    model_3 = keras.Sequential([\n",
    "        keras.Input(shape=(K,)),\n",
    "        keras.layers.Dense(12, activation=\"relu\"),\n",
    "        keras.layers.Dropout(DROPOUT_RATE**2),\n",
    "        keras.layers.Dense(6, activation=\"relu\"),\n",
    "        keras.layers.Dense(4, activation=\"sigmoid\"),\n",
    "        keras.layers.Dense(2, activation=\"sigmoid\")\n",
    "    ])\n",
    "    model_3.compile(\n",
    "        optimizer=keras.optimizers.Adam(learning_rate=LEARN_RATE),\n",
    "        loss=keras.losses.SparseCategoricalCrossentropy(),\n",
    "        metrics=['accuracy']\n",
    "    )\n",
    "    history_3 = model_3.fit(\n",
    "        X_norm_train_3, y_train_2,\n",
    "        epochs=EPOCH_LENGTH*2,\n",
    "        batch_size=x,\n",
    "        validation_data=(X_norm_val_3, y_valid_2)\n",
    "    )\n",
    "\n",
    "    plot_history_performance(history=history_3)\n",
    "\n",
    "    pred, acc = model_3.evaluate(X_norm_test_3, y_test_2)\n",
    "    preds.append(dict(batch_no=x, pred=pred, acc=acc))\n",
    "\n",
    "__dff = pd.DataFrame(preds)\n",
    "__dff"
   ]
  },
  {
   "cell_type": "code",
   "execution_count": 860,
   "metadata": {},
   "outputs": [
    {
     "name": "stdout",
     "output_type": "stream",
     "text": [
      "Epoch 1/24\n",
      "23/23 [==============================] - 1s 17ms/step - loss: 0.8876 - accuracy: 0.5406 - val_loss: 0.9306 - val_accuracy: 0.4719\n",
      "Epoch 2/24\n",
      "23/23 [==============================] - 0s 6ms/step - loss: 0.8101 - accuracy: 0.5406 - val_loss: 0.8491 - val_accuracy: 0.4719\n",
      "Epoch 3/24\n",
      "23/23 [==============================] - 0s 5ms/step - loss: 0.7478 - accuracy: 0.5406 - val_loss: 0.7819 - val_accuracy: 0.4719\n",
      "Epoch 4/24\n",
      "23/23 [==============================] - 0s 5ms/step - loss: 0.6931 - accuracy: 0.5406 - val_loss: 0.7234 - val_accuracy: 0.4719\n",
      "Epoch 5/24\n",
      "23/23 [==============================] - 0s 5ms/step - loss: 0.6504 - accuracy: 0.5406 - val_loss: 0.6729 - val_accuracy: 0.4719\n",
      "Epoch 6/24\n",
      "23/23 [==============================] - 0s 7ms/step - loss: 0.6106 - accuracy: 0.5406 - val_loss: 0.6299 - val_accuracy: 0.4719\n",
      "Epoch 7/24\n",
      "23/23 [==============================] - 0s 5ms/step - loss: 0.5743 - accuracy: 0.5406 - val_loss: 0.5942 - val_accuracy: 0.4869\n",
      "Epoch 8/24\n",
      "23/23 [==============================] - 0s 5ms/step - loss: 0.5456 - accuracy: 0.5938 - val_loss: 0.5637 - val_accuracy: 0.5730\n",
      "Epoch 9/24\n",
      "23/23 [==============================] - 0s 5ms/step - loss: 0.5241 - accuracy: 0.6863 - val_loss: 0.5394 - val_accuracy: 0.7079\n",
      "Epoch 10/24\n",
      "23/23 [==============================] - 0s 5ms/step - loss: 0.5000 - accuracy: 0.7563 - val_loss: 0.5160 - val_accuracy: 0.8165\n",
      "Epoch 11/24\n",
      "23/23 [==============================] - 0s 5ms/step - loss: 0.4767 - accuracy: 0.8347 - val_loss: 0.4947 - val_accuracy: 0.8652\n",
      "Epoch 12/24\n",
      "23/23 [==============================] - 0s 5ms/step - loss: 0.4579 - accuracy: 0.8627 - val_loss: 0.4764 - val_accuracy: 0.9064\n",
      "Epoch 13/24\n",
      "23/23 [==============================] - 0s 5ms/step - loss: 0.4373 - accuracy: 0.9188 - val_loss: 0.4606 - val_accuracy: 0.9213\n",
      "Epoch 14/24\n",
      "23/23 [==============================] - 0s 5ms/step - loss: 0.4211 - accuracy: 0.9300 - val_loss: 0.4473 - val_accuracy: 0.9213\n",
      "Epoch 15/24\n",
      "23/23 [==============================] - 0s 5ms/step - loss: 0.4083 - accuracy: 0.9440 - val_loss: 0.4350 - val_accuracy: 0.9288\n",
      "Epoch 16/24\n",
      "23/23 [==============================] - 0s 5ms/step - loss: 0.3967 - accuracy: 0.9468 - val_loss: 0.4240 - val_accuracy: 0.9288\n",
      "Epoch 17/24\n",
      "23/23 [==============================] - 0s 5ms/step - loss: 0.3870 - accuracy: 0.9552 - val_loss: 0.4138 - val_accuracy: 0.9363\n",
      "Epoch 18/24\n",
      "23/23 [==============================] - 0s 5ms/step - loss: 0.3732 - accuracy: 0.9580 - val_loss: 0.4042 - val_accuracy: 0.9363\n",
      "Epoch 19/24\n",
      "23/23 [==============================] - 0s 5ms/step - loss: 0.3597 - accuracy: 0.9552 - val_loss: 0.3956 - val_accuracy: 0.9363\n",
      "Epoch 20/24\n",
      "23/23 [==============================] - 0s 5ms/step - loss: 0.3554 - accuracy: 0.9496 - val_loss: 0.3874 - val_accuracy: 0.9213\n",
      "Epoch 21/24\n",
      "23/23 [==============================] - 0s 5ms/step - loss: 0.3436 - accuracy: 0.9552 - val_loss: 0.3802 - val_accuracy: 0.9213\n",
      "Epoch 22/24\n",
      "23/23 [==============================] - 0s 5ms/step - loss: 0.3354 - accuracy: 0.9468 - val_loss: 0.3724 - val_accuracy: 0.9213\n",
      "Epoch 23/24\n",
      "23/23 [==============================] - 0s 5ms/step - loss: 0.3251 - accuracy: 0.9580 - val_loss: 0.3657 - val_accuracy: 0.9288\n",
      "Epoch 24/24\n",
      "23/23 [==============================] - 0s 5ms/step - loss: 0.3205 - accuracy: 0.9496 - val_loss: 0.3592 - val_accuracy: 0.9139\n"
     ]
    },
    {
     "data": {
      "image/png": "[encoded data removed]",
      "text/plain": [
       "<Figure size 576x432 with 1 Axes>"
      ]
     },
     "metadata": {
      "needs_background": "light"
     },
     "output_type": "display_data"
    },
    {
     "name": "stdout",
     "output_type": "stream",
     "text": [
      "3/3 [==============================] - 0s 4ms/step - loss: 0.3228 - accuracy: 0.9667\n"
     ]
    }
   ],
   "source": [
    "model_4 = None\n",
    "history_4 = None\n",
    "model_4 = keras.Sequential([\n",
    "        keras.Input(shape=(K,)),\n",
    "        keras.layers.Dense(12, activation=\"relu\"),\n",
    "        keras.layers.Dropout(DROPOUT_RATE**2),\n",
    "        keras.layers.Dense(6, activation=\"relu\"),\n",
    "        keras.layers.Dense(4, activation=\"sigmoid\"),\n",
    "        keras.layers.Dense(2, activation=\"sigmoid\")\n",
    "    ])\n",
    "model_4.compile(\n",
    "    optimizer=keras.optimizers.Adam(learning_rate=LEARN_RATE),\n",
    "    loss=keras.losses.SparseCategoricalCrossentropy(),\n",
    "    metrics=[\"accuracy\"]\n",
    ")\n",
    "history_4 = model_4.fit(\n",
    "    X_norm_train_3, y_train_2,\n",
    "    epochs=EPOCH_LENGTH*2,\n",
    "    batch_size=BATCH_SIZE,\n",
    "    validation_data=(X_norm_val_3, y_valid_2)\n",
    ")\n",
    "\n",
    "plot_history_performance(history=history_4)\n",
    "\n",
    "pred, acc = model_4.evaluate(X_norm_test_3, y_test_2)"
   ]
  },
  {
   "cell_type": "markdown",
   "metadata": {},
   "source": [
    "## Univariate Features Selection"
   ]
  },
  {
   "cell_type": "code",
   "execution_count": 861,
   "metadata": {},
   "outputs": [
    {
     "data": {
      "text/plain": [
       "((569, 30), (569,))"
      ]
     },
     "execution_count": 861,
     "metadata": {},
     "output_type": "execute_result"
    }
   ],
   "source": [
    "xxxx = _df.drop([\"Unnamed: 32\", \"id\", \"diagnosis\"], axis=1)\n",
    "yyyy = get_target()\n",
    "xxxx.shape, yyyy.shape"
   ]
  },
  {
   "cell_type": "code",
   "execution_count": 862,
   "metadata": {},
   "outputs": [
    {
     "data": {
      "text/plain": [
       "((278, 30), (278,), (171, 30), (171,), (120, 30), (120,))"
      ]
     },
     "execution_count": 862,
     "metadata": {},
     "output_type": "execute_result"
    }
   ],
   "source": [
    "X_temp, X_TEST, Y_temp, Y_TEST = train_test_split(xxxx, yyyy, test_size=.3, random_state=37)\n",
    "X_TRAIN, X_VALID, Y_TRAIN, Y_VALID = train_test_split(X_temp, Y_temp, test_size=.3, random_state=37)\n",
    "X_TRAIN.shape, Y_TRAIN.shape, X_TEST.shape, Y_TEST.shape, X_VALID.shape, Y_VALID.shape"
   ]
  },
  {
   "cell_type": "code",
   "execution_count": 863,
   "metadata": {},
   "outputs": [
    {
     "data": {
      "text/plain": [
       "Text(0, 0.5, 'Univariate score')"
      ]
     },
     "execution_count": 863,
     "metadata": {},
     "output_type": "execute_result"
    },
    {
     "data": {
      "image/png": "[encoded data removed]",
      "text/plain": [
       "<Figure size 1296x360 with 1 Axes>"
      ]
     },
     "metadata": {
      "needs_background": "light"
     },
     "output_type": "display_data"
    }
   ],
   "source": [
    "selector = SelectKBest(chi2, k=5)\n",
    "\n",
    "selector.fit(X_TRAIN, Y_TRAIN)\n",
    "\n",
    "__df = pd.DataFrame(dict(feature=X_TRAIN.columns, score=selector.scores_), index=None).sort_values(by=\"score\", ascending=False, kind=\"stable\", ignore_index=True)\n",
    "\n",
    "plt.figure(figsize=(18,5))\n",
    "sns.barplot(data=__df, x=\"feature\", y=\"score\")\n",
    "plt.xticks(rotation=90)\n",
    "plt.xlabel(\"Features\")\n",
    "plt.ylabel(\"Univariate score\")"
   ]
  },
  {
   "cell_type": "markdown",
   "metadata": {},
   "source": [
    "## RFE"
   ]
  },
  {
   "cell_type": "code",
   "execution_count": 864,
   "metadata": {},
   "outputs": [
    {
     "data": {
      "text/plain": [
       "((569, 16), (569,))"
      ]
     },
     "execution_count": 864,
     "metadata": {},
     "output_type": "execute_result"
    }
   ],
   "source": [
    "cols_to_drop=['perimeter_mean','radius_mean','compactness_mean','concave points_mean','radius_se','perimeter_se','radius_worst','perimeter_worst','compactness_worst','concave points_worst','compactness_se','concave points_se','texture_worst','area_worst']\n",
    "xxxxx = _df.drop([\"Unnamed: 32\", \"id\", \"diagnosis\"], axis=1).drop(cols_to_drop, axis=1)\n",
    "yyyyy = get_target()\n",
    "xxxxx.shape, yyyyy.shape"
   ]
  },
  {
   "cell_type": "code",
   "execution_count": 865,
   "metadata": {},
   "outputs": [],
   "source": [
    "scaler = StandardScaler()\n",
    "xx_xxx = scaler.fit_transform(xxxxx)"
   ]
  },
  {
   "cell_type": "code",
   "execution_count": 866,
   "metadata": {},
   "outputs": [],
   "source": [
    "over = RandomOverSampler()\n",
    "xxx_xx, yyy_yy = over.fit_resample(xx_xxx, yyyyy)"
   ]
  },
  {
   "cell_type": "code",
   "execution_count": 867,
   "metadata": {},
   "outputs": [
    {
     "data": {
      "text/plain": [
       "((349, 16), (349,), (215, 16), (215,), (150, 16), (150,))"
      ]
     },
     "execution_count": 867,
     "metadata": {},
     "output_type": "execute_result"
    }
   ],
   "source": [
    "X_temp, X_TEST, Y_temp, Y_TEST = train_test_split(xxx_xx, yyy_yy, test_size=.3, random_state=37)\n",
    "X_TRAIN, X_VALID, Y_TRAIN, Y_VALID = train_test_split(X_temp, Y_temp, test_size=.3, random_state=37)\n",
    "X_TRAIN.shape, Y_TRAIN.shape, X_TEST.shape, Y_TEST.shape, X_VALID.shape, Y_VALID.shape"
   ]
  },
  {
   "cell_type": "code",
   "execution_count": 868,
   "metadata": {},
   "outputs": [
    {
     "data": {
      "text/plain": [
       "Index(['texture_mean', 'area_mean', 'concavity_mean', 'area_se',\n",
       "       'concavity_worst'],\n",
       "      dtype='object')"
      ]
     },
     "execution_count": 868,
     "metadata": {},
     "output_type": "execute_result"
    }
   ],
   "source": [
    "rfc = RandomForestClassifier()\n",
    "rfe = RFE(estimator=rfc, n_features_to_select=5, step=1)\n",
    "rfe = rfe.fit(X_TRAIN, Y_TRAIN)\n",
    "\n",
    "xxxxx.columns[rfe.support_]"
   ]
  },
  {
   "cell_type": "code",
   "execution_count": 869,
   "metadata": {},
   "outputs": [
    {
     "data": {
      "text/plain": [
       "((349, 5), (215, 5), (150, 5))"
      ]
     },
     "execution_count": 869,
     "metadata": {},
     "output_type": "execute_result"
    }
   ],
   "source": [
    "X_TRAIN = rfe.transform(X_TRAIN)\n",
    "X_TEST = rfe.transform(X_TEST)\n",
    "X_VALID = rfe.transform(X_VALID)\n",
    "\n",
    "X_TRAIN.shape, X_TEST.shape, X_VALID.shape"
   ]
  },
  {
   "cell_type": "code",
   "execution_count": 870,
   "metadata": {},
   "outputs": [
    {
     "name": "stdout",
     "output_type": "stream",
     "text": [
      "Epoch 1/9\n",
      "22/22 [==============================] - 1s 18ms/step - loss: 0.6283 - accuracy: 0.6705 - val_loss: 0.5435 - val_accuracy: 0.7733\n",
      "Epoch 2/9\n",
      "22/22 [==============================] - 0s 9ms/step - loss: 0.5167 - accuracy: 0.8052 - val_loss: 0.4418 - val_accuracy: 0.8800\n",
      "Epoch 3/9\n",
      "22/22 [==============================] - 0s 7ms/step - loss: 0.4494 - accuracy: 0.8797 - val_loss: 0.3641 - val_accuracy: 0.9133\n",
      "Epoch 4/9\n",
      "22/22 [==============================] - 0s 8ms/step - loss: 0.3721 - accuracy: 0.8797 - val_loss: 0.3077 - val_accuracy: 0.9133\n",
      "Epoch 5/9\n",
      "22/22 [==============================] - 0s 6ms/step - loss: 0.3244 - accuracy: 0.8911 - val_loss: 0.2660 - val_accuracy: 0.9000\n",
      "Epoch 6/9\n",
      "22/22 [==============================] - 0s 7ms/step - loss: 0.2948 - accuracy: 0.9026 - val_loss: 0.2367 - val_accuracy: 0.9000\n",
      "Epoch 7/9\n",
      "22/22 [==============================] - 0s 7ms/step - loss: 0.2804 - accuracy: 0.9226 - val_loss: 0.2173 - val_accuracy: 0.9000\n",
      "Epoch 8/9\n",
      "22/22 [==============================] - 0s 8ms/step - loss: 0.2533 - accuracy: 0.9083 - val_loss: 0.2054 - val_accuracy: 0.9133\n",
      "Epoch 9/9\n",
      "22/22 [==============================] - 0s 7ms/step - loss: 0.2360 - accuracy: 0.9112 - val_loss: 0.1961 - val_accuracy: 0.9200\n"
     ]
    },
    {
     "data": {
      "image/png": "[encoded data removed]",
      "text/plain": [
       "<Figure size 576x432 with 1 Axes>"
      ]
     },
     "metadata": {
      "needs_background": "light"
     },
     "output_type": "display_data"
    },
    {
     "name": "stdout",
     "output_type": "stream",
     "text": [
      "7/7 [==============================] - 0s 3ms/step - loss: 0.1821 - accuracy: 0.9442\n"
     ]
    }
   ],
   "source": [
    "model_5 = None\n",
    "history_5 = None\n",
    "model_5 = keras.Sequential([\n",
    "        keras.Input(shape=(5,)),\n",
    "        keras.layers.Dense(16, activation=\"relu\"),\n",
    "        keras.layers.Dropout(DROPOUT_RATE),\n",
    "        keras.layers.Dense(8, activation=\"relu\"),\n",
    "        keras.layers.Dropout(DROPOUT_RATE),\n",
    "        keras.layers.Dense(2, activation=\"sigmoid\")\n",
    "    ])\n",
    "model_5.compile(\n",
    "    optimizer=keras.optimizers.Adam(learning_rate=LEARN_RATE),\n",
    "    loss=keras.losses.SparseCategoricalCrossentropy(),\n",
    "    metrics=[\"accuracy\"]\n",
    ")\n",
    "history_5 = model_5.fit(\n",
    "    X_TRAIN, Y_TRAIN,\n",
    "    epochs=9,\n",
    "    batch_size=BATCH_SIZE,\n",
    "    validation_data=(X_VALID, Y_VALID)\n",
    ")\n",
    "\n",
    "plot_history_performance(history=history_5)\n",
    "\n",
    "pred, acc = model_5.evaluate(X_TEST, Y_TEST)"
   ]
  },
  {
   "cell_type": "code",
   "execution_count": 871,
   "metadata": {},
   "outputs": [
    {
     "name": "stdout",
     "output_type": "stream",
     "text": [
      "INFO:tensorflow:Assets written to: trained_model\\assets\n"
     ]
    }
   ],
   "source": [
    "model_5.save(\"trained_model\", save_format=\"tf\", overwrite=True, include_optimizer=True)"
   ]
  }
 ],
 "metadata": {
  "kernelspec": {
   "display_name": "Python 3.10.5 64-bit",
   "language": "python",
   "name": "python3"
  },
  "language_info": {
   "codemirror_mode": {
    "name": "ipython",
    "version": 3
   },
   "file_extension": ".py",
   "mimetype": "text/x-python",
   "name": "python",
   "nbconvert_exporter": "python",
   "pygments_lexer": "ipython3",
   "version": "3.10.5"
  },
  "orig_nbformat": 4,
  "vscode": {
   "interpreter": {
    "hash": "213524bb45a1aeaf737b1d8c77d7b8db5d425938d9dffc5f4bc6fe6dd3324700"
   }
  }
 },
 "nbformat": 4,
 "nbformat_minor": 2
}
